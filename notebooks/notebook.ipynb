{
 "cells": [
  {
   "cell_type": "markdown",
   "source": [
    "# imports"
   ],
   "metadata": {
    "collapsed": false
   },
   "id": "c430413b6fc6e434"
  },
  {
   "cell_type": "code",
   "execution_count": 7,
   "id": "initial_id",
   "metadata": {
    "collapsed": true,
    "ExecuteTime": {
     "end_time": "2024-03-13T07:49:00.046188Z",
     "start_time": "2024-03-13T07:49:00.044418Z"
    }
   },
   "outputs": [],
   "source": [
    "import pandas as pd\n",
    "from sklearn.pipeline import Pipeline\n",
    "from utils import ImmoFeature as ImmoF\n",
    "from features.transformers import PostalCodeFixer"
   ]
  },
  {
   "cell_type": "markdown",
   "source": [
    "# print postalcodes that are not numerical"
   ],
   "metadata": {
    "collapsed": false
   },
   "id": "6b9f559a541ab367"
  },
  {
   "cell_type": "code",
   "outputs": [],
   "source": [
    "def print_non_numerical_postal_code(df):\n",
    "    for i in range(len(df)):\n",
    "        if isinstance(df[ImmoF.postal_code.value][i], str):\n",
    "            if not df[ImmoF.postal_code.value][i].isdigit():\n",
    "                print(df[ImmoF.postal_code.value][i])"
   ],
   "metadata": {
    "collapsed": false,
    "ExecuteTime": {
     "end_time": "2024-03-13T07:49:00.058732Z",
     "start_time": "2024-03-13T07:49:00.049745Z"
    }
   },
   "id": "6aa7d43b7620631f",
   "execution_count": 8
  },
  {
   "cell_type": "markdown",
   "source": [
    "# load the data"
   ],
   "metadata": {
    "collapsed": false
   },
   "id": "fd573b2500fdd95d"
  },
  {
   "cell_type": "code",
   "outputs": [
    {
     "data": {
      "text/plain": "0"
     },
     "execution_count": 9,
     "metadata": {},
     "output_type": "execute_result"
    }
   ],
   "source": [
    "df = pd.read_csv('../data/raw/immo-data.csv', low_memory=False)"
   ],
   "metadata": {
    "collapsed": false,
    "ExecuteTime": {
     "end_time": "2024-03-13T07:49:00.291593Z",
     "start_time": "2024-03-13T07:49:00.073288Z"
    }
   },
   "id": "3ddecfb9d1717fbf",
   "execution_count": 9
  },
  {
   "cell_type": "markdown",
   "source": [
    "# print out non numerical postal codes"
   ],
   "metadata": {
    "collapsed": false
   },
   "id": "411a6c9f51992712"
  },
  {
   "cell_type": "code",
   "outputs": [
    {
     "name": "stdout",
     "output_type": "stream",
     "text": [
      "2970a\n"
     ]
    }
   ],
   "source": [
    "print_non_numerical_postal_code(df)"
   ],
   "metadata": {
    "collapsed": false,
    "ExecuteTime": {
     "end_time": "2024-03-13T07:49:00.662417Z",
     "start_time": "2024-03-13T07:49:00.292793Z"
    }
   },
   "id": "ed91a14c8004a986",
   "execution_count": 10
  },
  {
   "cell_type": "markdown",
   "source": [
    "# create a pipeline to clean the postal code column"
   ],
   "metadata": {
    "collapsed": false
   },
   "id": "b2c4aeac85463070"
  },
  {
   "cell_type": "code",
   "outputs": [],
   "source": [
    "# create a pipeline to clean the postal code column\n",
    "pipe = Pipeline([\n",
    "    ('clean_postal_code', PostalCodeFixer())\n",
    "])"
   ],
   "metadata": {
    "collapsed": false,
    "ExecuteTime": {
     "end_time": "2024-03-13T07:49:00.664867Z",
     "start_time": "2024-03-13T07:49:00.663176Z"
    }
   },
   "id": "d21eaaf51f8ca038",
   "execution_count": 11
  },
  {
   "cell_type": "markdown",
   "source": [
    "# fit the pipeline"
   ],
   "metadata": {
    "collapsed": false
   },
   "id": "94864e91095f5ef"
  },
  {
   "cell_type": "code",
   "outputs": [],
   "source": [
    "# fit the pipeline\n",
    "df = pipe.fit_transform(df)"
   ],
   "metadata": {
    "collapsed": false,
    "ExecuteTime": {
     "end_time": "2024-03-13T07:49:00.717951Z",
     "start_time": "2024-03-13T07:49:00.665588Z"
    }
   },
   "id": "312e48c1aa770b66",
   "execution_count": 12
  },
  {
   "cell_type": "markdown",
   "source": [
    "# print out non numerical postal codes"
   ],
   "metadata": {
    "collapsed": false
   },
   "id": "53462db96737111d"
  },
  {
   "cell_type": "code",
   "outputs": [],
   "source": [
    "print_non_numerical_postal_code(df)"
   ],
   "metadata": {
    "collapsed": false,
    "ExecuteTime": {
     "end_time": "2024-03-13T07:49:01.083963Z",
     "start_time": "2024-03-13T07:49:00.718643Z"
    }
   },
   "id": "df7651d4a09c51e6",
   "execution_count": 13
  }
 ],
 "metadata": {
  "kernelspec": {
   "display_name": "Python 3",
   "language": "python",
   "name": "python3"
  },
  "language_info": {
   "codemirror_mode": {
    "name": "ipython",
    "version": 2
   },
   "file_extension": ".py",
   "mimetype": "text/x-python",
   "name": "python",
   "nbconvert_exporter": "python",
   "pygments_lexer": "ipython2",
   "version": "2.7.6"
  }
 },
 "nbformat": 4,
 "nbformat_minor": 5
}
