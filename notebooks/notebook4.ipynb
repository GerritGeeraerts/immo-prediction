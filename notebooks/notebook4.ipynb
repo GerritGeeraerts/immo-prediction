{
 "cells": [
  {
   "cell_type": "code",
   "execution_count": 3,
   "id": "initial_id",
   "metadata": {
    "collapsed": true,
    "ExecuteTime": {
     "end_time": "2024-03-15T20:30:32.096676Z",
     "start_time": "2024-03-15T20:30:31.818104Z"
    }
   },
   "outputs": [
    {
     "ename": "TypeError",
     "evalue": "argument of type 'float' is not iterable",
     "output_type": "error",
     "traceback": [
      "\u001B[0;31m---------------------------------------------------------------------------\u001B[0m",
      "\u001B[0;31mTypeError\u001B[0m                                 Traceback (most recent call last)",
      "Cell \u001B[0;32mIn[3], line 41\u001B[0m\n\u001B[1;32m     31\u001B[0m epc_map \u001B[38;5;241m=\u001B[39m {\n\u001B[1;32m     32\u001B[0m     \u001B[38;5;124m\"\u001B[39m\u001B[38;5;124mA\u001B[39m\u001B[38;5;124m\"\u001B[39m: \u001B[38;5;241m7\u001B[39m,\n\u001B[1;32m     33\u001B[0m     \u001B[38;5;124m\"\u001B[39m\u001B[38;5;124mB\u001B[39m\u001B[38;5;124m\"\u001B[39m: \u001B[38;5;241m6\u001B[39m,\n\u001B[0;32m   (...)\u001B[0m\n\u001B[1;32m     38\u001B[0m     \u001B[38;5;124m\"\u001B[39m\u001B[38;5;124mG\u001B[39m\u001B[38;5;124m\"\u001B[39m: \u001B[38;5;241m1\u001B[39m,\n\u001B[1;32m     39\u001B[0m }\n\u001B[1;32m     40\u001B[0m \u001B[38;5;66;03m# the count of each value in EPC column\u001B[39;00m\n\u001B[0;32m---> 41\u001B[0m df[\u001B[38;5;124m'\u001B[39m\u001B[38;5;124mEPC\u001B[39m\u001B[38;5;124m'\u001B[39m] \u001B[38;5;241m=\u001B[39m \u001B[43mdf\u001B[49m\u001B[43m[\u001B[49m\u001B[38;5;124;43m'\u001B[39;49m\u001B[38;5;124;43mEPC\u001B[39;49m\u001B[38;5;124;43m'\u001B[39;49m\u001B[43m]\u001B[49m\u001B[38;5;241;43m.\u001B[39;49m\u001B[43mapply\u001B[49m\u001B[43m(\u001B[49m\u001B[38;5;28;43;01mlambda\u001B[39;49;00m\u001B[43m \u001B[49m\u001B[43mx\u001B[49m\u001B[43m:\u001B[49m\u001B[43m \u001B[49m\u001B[38;5;124;43m'\u001B[39;49m\u001B[38;5;124;43mA\u001B[39;49m\u001B[38;5;124;43m'\u001B[39;49m\u001B[43m \u001B[49m\u001B[38;5;28;43;01mif\u001B[39;49;00m\u001B[43m \u001B[49m\u001B[38;5;124;43m'\u001B[39;49m\u001B[38;5;124;43mA\u001B[39;49m\u001B[38;5;124;43m'\u001B[39;49m\u001B[43m \u001B[49m\u001B[38;5;129;43;01min\u001B[39;49;00m\u001B[43m \u001B[49m\u001B[43mx\u001B[49m\u001B[43m \u001B[49m\u001B[38;5;28;43;01melse\u001B[39;49;00m\u001B[43m \u001B[49m\u001B[43mx\u001B[49m\u001B[43m)\u001B[49m\n\u001B[1;32m     42\u001B[0m df[\u001B[38;5;124m'\u001B[39m\u001B[38;5;124mEPC\u001B[39m\u001B[38;5;124m'\u001B[39m] \u001B[38;5;241m=\u001B[39m df[\u001B[38;5;124m'\u001B[39m\u001B[38;5;124mEPC\u001B[39m\u001B[38;5;124m'\u001B[39m]\u001B[38;5;241m.\u001B[39mapply(\u001B[38;5;28;01mlambda\u001B[39;00m x: \u001B[38;5;124m'\u001B[39m\u001B[38;5;124mF\u001B[39m\u001B[38;5;124m'\u001B[39m \u001B[38;5;28;01mif\u001B[39;00m \u001B[38;5;124m'\u001B[39m\u001B[38;5;124mF\u001B[39m\u001B[38;5;124m'\u001B[39m \u001B[38;5;129;01min\u001B[39;00m x \u001B[38;5;28;01melse\u001B[39;00m x)\n\u001B[1;32m     43\u001B[0m df[\u001B[38;5;124m'\u001B[39m\u001B[38;5;124mEPC\u001B[39m\u001B[38;5;124m'\u001B[39m] \u001B[38;5;241m=\u001B[39m df[\u001B[38;5;124m'\u001B[39m\u001B[38;5;124mEPC\u001B[39m\u001B[38;5;124m'\u001B[39m]\u001B[38;5;241m.\u001B[39mmap(epc_map)\n",
      "File \u001B[0;32m~/PycharmProjects/immo-prediction/.venv/lib/python3.10/site-packages/pandas/core/series.py:4915\u001B[0m, in \u001B[0;36mSeries.apply\u001B[0;34m(self, func, convert_dtype, args, by_row, **kwargs)\u001B[0m\n\u001B[1;32m   4780\u001B[0m \u001B[38;5;28;01mdef\u001B[39;00m \u001B[38;5;21mapply\u001B[39m(\n\u001B[1;32m   4781\u001B[0m     \u001B[38;5;28mself\u001B[39m,\n\u001B[1;32m   4782\u001B[0m     func: AggFuncType,\n\u001B[0;32m   (...)\u001B[0m\n\u001B[1;32m   4787\u001B[0m     \u001B[38;5;241m*\u001B[39m\u001B[38;5;241m*\u001B[39mkwargs,\n\u001B[1;32m   4788\u001B[0m ) \u001B[38;5;241m-\u001B[39m\u001B[38;5;241m>\u001B[39m DataFrame \u001B[38;5;241m|\u001B[39m Series:\n\u001B[1;32m   4789\u001B[0m \u001B[38;5;250m    \u001B[39m\u001B[38;5;124;03m\"\"\"\u001B[39;00m\n\u001B[1;32m   4790\u001B[0m \u001B[38;5;124;03m    Invoke function on values of Series.\u001B[39;00m\n\u001B[1;32m   4791\u001B[0m \n\u001B[0;32m   (...)\u001B[0m\n\u001B[1;32m   4906\u001B[0m \u001B[38;5;124;03m    dtype: float64\u001B[39;00m\n\u001B[1;32m   4907\u001B[0m \u001B[38;5;124;03m    \"\"\"\u001B[39;00m\n\u001B[1;32m   4908\u001B[0m     \u001B[38;5;28;01mreturn\u001B[39;00m \u001B[43mSeriesApply\u001B[49m\u001B[43m(\u001B[49m\n\u001B[1;32m   4909\u001B[0m \u001B[43m        \u001B[49m\u001B[38;5;28;43mself\u001B[39;49m\u001B[43m,\u001B[49m\n\u001B[1;32m   4910\u001B[0m \u001B[43m        \u001B[49m\u001B[43mfunc\u001B[49m\u001B[43m,\u001B[49m\n\u001B[1;32m   4911\u001B[0m \u001B[43m        \u001B[49m\u001B[43mconvert_dtype\u001B[49m\u001B[38;5;241;43m=\u001B[39;49m\u001B[43mconvert_dtype\u001B[49m\u001B[43m,\u001B[49m\n\u001B[1;32m   4912\u001B[0m \u001B[43m        \u001B[49m\u001B[43mby_row\u001B[49m\u001B[38;5;241;43m=\u001B[39;49m\u001B[43mby_row\u001B[49m\u001B[43m,\u001B[49m\n\u001B[1;32m   4913\u001B[0m \u001B[43m        \u001B[49m\u001B[43margs\u001B[49m\u001B[38;5;241;43m=\u001B[39;49m\u001B[43margs\u001B[49m\u001B[43m,\u001B[49m\n\u001B[1;32m   4914\u001B[0m \u001B[43m        \u001B[49m\u001B[43mkwargs\u001B[49m\u001B[38;5;241;43m=\u001B[39;49m\u001B[43mkwargs\u001B[49m\u001B[43m,\u001B[49m\n\u001B[0;32m-> 4915\u001B[0m \u001B[43m    \u001B[49m\u001B[43m)\u001B[49m\u001B[38;5;241;43m.\u001B[39;49m\u001B[43mapply\u001B[49m\u001B[43m(\u001B[49m\u001B[43m)\u001B[49m\n",
      "File \u001B[0;32m~/PycharmProjects/immo-prediction/.venv/lib/python3.10/site-packages/pandas/core/apply.py:1427\u001B[0m, in \u001B[0;36mSeriesApply.apply\u001B[0;34m(self)\u001B[0m\n\u001B[1;32m   1424\u001B[0m     \u001B[38;5;28;01mreturn\u001B[39;00m \u001B[38;5;28mself\u001B[39m\u001B[38;5;241m.\u001B[39mapply_compat()\n\u001B[1;32m   1426\u001B[0m \u001B[38;5;66;03m# self.func is Callable\u001B[39;00m\n\u001B[0;32m-> 1427\u001B[0m \u001B[38;5;28;01mreturn\u001B[39;00m \u001B[38;5;28;43mself\u001B[39;49m\u001B[38;5;241;43m.\u001B[39;49m\u001B[43mapply_standard\u001B[49m\u001B[43m(\u001B[49m\u001B[43m)\u001B[49m\n",
      "File \u001B[0;32m~/PycharmProjects/immo-prediction/.venv/lib/python3.10/site-packages/pandas/core/apply.py:1507\u001B[0m, in \u001B[0;36mSeriesApply.apply_standard\u001B[0;34m(self)\u001B[0m\n\u001B[1;32m   1501\u001B[0m \u001B[38;5;66;03m# row-wise access\u001B[39;00m\n\u001B[1;32m   1502\u001B[0m \u001B[38;5;66;03m# apply doesn't have a `na_action` keyword and for backward compat reasons\u001B[39;00m\n\u001B[1;32m   1503\u001B[0m \u001B[38;5;66;03m# we need to give `na_action=\"ignore\"` for categorical data.\u001B[39;00m\n\u001B[1;32m   1504\u001B[0m \u001B[38;5;66;03m# TODO: remove the `na_action=\"ignore\"` when that default has been changed in\u001B[39;00m\n\u001B[1;32m   1505\u001B[0m \u001B[38;5;66;03m#  Categorical (GH51645).\u001B[39;00m\n\u001B[1;32m   1506\u001B[0m action \u001B[38;5;241m=\u001B[39m \u001B[38;5;124m\"\u001B[39m\u001B[38;5;124mignore\u001B[39m\u001B[38;5;124m\"\u001B[39m \u001B[38;5;28;01mif\u001B[39;00m \u001B[38;5;28misinstance\u001B[39m(obj\u001B[38;5;241m.\u001B[39mdtype, CategoricalDtype) \u001B[38;5;28;01melse\u001B[39;00m \u001B[38;5;28;01mNone\u001B[39;00m\n\u001B[0;32m-> 1507\u001B[0m mapped \u001B[38;5;241m=\u001B[39m \u001B[43mobj\u001B[49m\u001B[38;5;241;43m.\u001B[39;49m\u001B[43m_map_values\u001B[49m\u001B[43m(\u001B[49m\n\u001B[1;32m   1508\u001B[0m \u001B[43m    \u001B[49m\u001B[43mmapper\u001B[49m\u001B[38;5;241;43m=\u001B[39;49m\u001B[43mcurried\u001B[49m\u001B[43m,\u001B[49m\u001B[43m \u001B[49m\u001B[43mna_action\u001B[49m\u001B[38;5;241;43m=\u001B[39;49m\u001B[43maction\u001B[49m\u001B[43m,\u001B[49m\u001B[43m \u001B[49m\u001B[43mconvert\u001B[49m\u001B[38;5;241;43m=\u001B[39;49m\u001B[38;5;28;43mself\u001B[39;49m\u001B[38;5;241;43m.\u001B[39;49m\u001B[43mconvert_dtype\u001B[49m\n\u001B[1;32m   1509\u001B[0m \u001B[43m\u001B[49m\u001B[43m)\u001B[49m\n\u001B[1;32m   1511\u001B[0m \u001B[38;5;28;01mif\u001B[39;00m \u001B[38;5;28mlen\u001B[39m(mapped) \u001B[38;5;129;01mand\u001B[39;00m \u001B[38;5;28misinstance\u001B[39m(mapped[\u001B[38;5;241m0\u001B[39m], ABCSeries):\n\u001B[1;32m   1512\u001B[0m     \u001B[38;5;66;03m# GH#43986 Need to do list(mapped) in order to get treated as nested\u001B[39;00m\n\u001B[1;32m   1513\u001B[0m     \u001B[38;5;66;03m#  See also GH#25959 regarding EA support\u001B[39;00m\n\u001B[1;32m   1514\u001B[0m     \u001B[38;5;28;01mreturn\u001B[39;00m obj\u001B[38;5;241m.\u001B[39m_constructor_expanddim(\u001B[38;5;28mlist\u001B[39m(mapped), index\u001B[38;5;241m=\u001B[39mobj\u001B[38;5;241m.\u001B[39mindex)\n",
      "File \u001B[0;32m~/PycharmProjects/immo-prediction/.venv/lib/python3.10/site-packages/pandas/core/base.py:921\u001B[0m, in \u001B[0;36mIndexOpsMixin._map_values\u001B[0;34m(self, mapper, na_action, convert)\u001B[0m\n\u001B[1;32m    918\u001B[0m \u001B[38;5;28;01mif\u001B[39;00m \u001B[38;5;28misinstance\u001B[39m(arr, ExtensionArray):\n\u001B[1;32m    919\u001B[0m     \u001B[38;5;28;01mreturn\u001B[39;00m arr\u001B[38;5;241m.\u001B[39mmap(mapper, na_action\u001B[38;5;241m=\u001B[39mna_action)\n\u001B[0;32m--> 921\u001B[0m \u001B[38;5;28;01mreturn\u001B[39;00m \u001B[43malgorithms\u001B[49m\u001B[38;5;241;43m.\u001B[39;49m\u001B[43mmap_array\u001B[49m\u001B[43m(\u001B[49m\u001B[43marr\u001B[49m\u001B[43m,\u001B[49m\u001B[43m \u001B[49m\u001B[43mmapper\u001B[49m\u001B[43m,\u001B[49m\u001B[43m \u001B[49m\u001B[43mna_action\u001B[49m\u001B[38;5;241;43m=\u001B[39;49m\u001B[43mna_action\u001B[49m\u001B[43m,\u001B[49m\u001B[43m \u001B[49m\u001B[43mconvert\u001B[49m\u001B[38;5;241;43m=\u001B[39;49m\u001B[43mconvert\u001B[49m\u001B[43m)\u001B[49m\n",
      "File \u001B[0;32m~/PycharmProjects/immo-prediction/.venv/lib/python3.10/site-packages/pandas/core/algorithms.py:1743\u001B[0m, in \u001B[0;36mmap_array\u001B[0;34m(arr, mapper, na_action, convert)\u001B[0m\n\u001B[1;32m   1741\u001B[0m values \u001B[38;5;241m=\u001B[39m arr\u001B[38;5;241m.\u001B[39mastype(\u001B[38;5;28mobject\u001B[39m, copy\u001B[38;5;241m=\u001B[39m\u001B[38;5;28;01mFalse\u001B[39;00m)\n\u001B[1;32m   1742\u001B[0m \u001B[38;5;28;01mif\u001B[39;00m na_action \u001B[38;5;129;01mis\u001B[39;00m \u001B[38;5;28;01mNone\u001B[39;00m:\n\u001B[0;32m-> 1743\u001B[0m     \u001B[38;5;28;01mreturn\u001B[39;00m \u001B[43mlib\u001B[49m\u001B[38;5;241;43m.\u001B[39;49m\u001B[43mmap_infer\u001B[49m\u001B[43m(\u001B[49m\u001B[43mvalues\u001B[49m\u001B[43m,\u001B[49m\u001B[43m \u001B[49m\u001B[43mmapper\u001B[49m\u001B[43m,\u001B[49m\u001B[43m \u001B[49m\u001B[43mconvert\u001B[49m\u001B[38;5;241;43m=\u001B[39;49m\u001B[43mconvert\u001B[49m\u001B[43m)\u001B[49m\n\u001B[1;32m   1744\u001B[0m \u001B[38;5;28;01melse\u001B[39;00m:\n\u001B[1;32m   1745\u001B[0m     \u001B[38;5;28;01mreturn\u001B[39;00m lib\u001B[38;5;241m.\u001B[39mmap_infer_mask(\n\u001B[1;32m   1746\u001B[0m         values, mapper, mask\u001B[38;5;241m=\u001B[39misna(values)\u001B[38;5;241m.\u001B[39mview(np\u001B[38;5;241m.\u001B[39muint8), convert\u001B[38;5;241m=\u001B[39mconvert\n\u001B[1;32m   1747\u001B[0m     )\n",
      "File \u001B[0;32mlib.pyx:2972\u001B[0m, in \u001B[0;36mpandas._libs.lib.map_infer\u001B[0;34m()\u001B[0m\n",
      "Cell \u001B[0;32mIn[3], line 41\u001B[0m, in \u001B[0;36m<lambda>\u001B[0;34m(x)\u001B[0m\n\u001B[1;32m     31\u001B[0m epc_map \u001B[38;5;241m=\u001B[39m {\n\u001B[1;32m     32\u001B[0m     \u001B[38;5;124m\"\u001B[39m\u001B[38;5;124mA\u001B[39m\u001B[38;5;124m\"\u001B[39m: \u001B[38;5;241m7\u001B[39m,\n\u001B[1;32m     33\u001B[0m     \u001B[38;5;124m\"\u001B[39m\u001B[38;5;124mB\u001B[39m\u001B[38;5;124m\"\u001B[39m: \u001B[38;5;241m6\u001B[39m,\n\u001B[0;32m   (...)\u001B[0m\n\u001B[1;32m     38\u001B[0m     \u001B[38;5;124m\"\u001B[39m\u001B[38;5;124mG\u001B[39m\u001B[38;5;124m\"\u001B[39m: \u001B[38;5;241m1\u001B[39m,\n\u001B[1;32m     39\u001B[0m }\n\u001B[1;32m     40\u001B[0m \u001B[38;5;66;03m# the count of each value in EPC column\u001B[39;00m\n\u001B[0;32m---> 41\u001B[0m df[\u001B[38;5;124m'\u001B[39m\u001B[38;5;124mEPC\u001B[39m\u001B[38;5;124m'\u001B[39m] \u001B[38;5;241m=\u001B[39m df[\u001B[38;5;124m'\u001B[39m\u001B[38;5;124mEPC\u001B[39m\u001B[38;5;124m'\u001B[39m]\u001B[38;5;241m.\u001B[39mapply(\u001B[38;5;28;01mlambda\u001B[39;00m x: \u001B[38;5;124m'\u001B[39m\u001B[38;5;124mA\u001B[39m\u001B[38;5;124m'\u001B[39m \u001B[38;5;28;01mif\u001B[39;00m \u001B[38;5;124;43m'\u001B[39;49m\u001B[38;5;124;43mA\u001B[39;49m\u001B[38;5;124;43m'\u001B[39;49m\u001B[43m \u001B[49m\u001B[38;5;129;43;01min\u001B[39;49;00m\u001B[43m \u001B[49m\u001B[43mx\u001B[49m \u001B[38;5;28;01melse\u001B[39;00m x)\n\u001B[1;32m     42\u001B[0m df[\u001B[38;5;124m'\u001B[39m\u001B[38;5;124mEPC\u001B[39m\u001B[38;5;124m'\u001B[39m] \u001B[38;5;241m=\u001B[39m df[\u001B[38;5;124m'\u001B[39m\u001B[38;5;124mEPC\u001B[39m\u001B[38;5;124m'\u001B[39m]\u001B[38;5;241m.\u001B[39mapply(\u001B[38;5;28;01mlambda\u001B[39;00m x: \u001B[38;5;124m'\u001B[39m\u001B[38;5;124mF\u001B[39m\u001B[38;5;124m'\u001B[39m \u001B[38;5;28;01mif\u001B[39;00m \u001B[38;5;124m'\u001B[39m\u001B[38;5;124mF\u001B[39m\u001B[38;5;124m'\u001B[39m \u001B[38;5;129;01min\u001B[39;00m x \u001B[38;5;28;01melse\u001B[39;00m x)\n\u001B[1;32m     43\u001B[0m df[\u001B[38;5;124m'\u001B[39m\u001B[38;5;124mEPC\u001B[39m\u001B[38;5;124m'\u001B[39m] \u001B[38;5;241m=\u001B[39m df[\u001B[38;5;124m'\u001B[39m\u001B[38;5;124mEPC\u001B[39m\u001B[38;5;124m'\u001B[39m]\u001B[38;5;241m.\u001B[39mmap(epc_map)\n",
      "\u001B[0;31mTypeError\u001B[0m: argument of type 'float' is not iterable"
     ]
    }
   ],
   "source": [
    "import numpy as np\n",
    "import pandas as pd\n",
    "from sklearn.impute import KNNImputer\n",
    "from sklearn.linear_model import LinearRegression\n",
    "from sklearn.metrics import r2_score, mean_squared_error\n",
    "from sklearn.model_selection import train_test_split\n",
    "from sklearn.neighbors import KNeighborsRegressor\n",
    "from sklearn.preprocessing import OrdinalEncoder, MinMaxScaler\n",
    "\n",
    "from features.generic_transformer import MyStandardScaler\n",
    "from features.genereric_build_features import OneHotEncodeColumns, PostalCodePimp\n",
    "from utils import save_model_as_pickle\n",
    "\n",
    "df = pd.read_csv('/home/gg/PycharmProjects/immo-prediction/data/raw/data.csv', low_memory=False)\n",
    "df.head()\n",
    "\n",
    "sub_types_to_keep = [\n",
    "    'VILLA', 'HOUSE', 'APARTMENT',\n",
    "]\n",
    "columns_to_keep = ['Bathroom Count', 'Bedroom Count', 'Habitable Surface', 'Land Surface', 'Price', 'Subtype',\n",
    "                   'Latitude', 'Longitude', 'State of Building', 'EPC', 'Kitchen Type']\n",
    "\n",
    "# Fix some data in the dataframe\n",
    "df.loc[df['Subtype'] == 'APARTMENT', 'Land Surface'] = 0\n",
    "df = df.dropna(subset=['Bathroom Count', 'Bedroom Count', 'Habitable Surface', 'Latitude', 'Longitude', 'Subtype'])\n",
    "# df = df[:50000)\n",
    "df = df.reset_index(drop=True)\n",
    "df = df[df['Subtype'].isin(sub_types_to_keep)]\n",
    "df = df[columns_to_keep]\n",
    "df.reset_index(drop=True, inplace=True)\n",
    "epc_map = {\n",
    "    \"A\": 7,\n",
    "    \"B\": 6,\n",
    "    \"C\": 5,\n",
    "    \"D\": 4,\n",
    "    \"E\": 3,\n",
    "    \"F\": 2,\n",
    "    \"G\": 1,\n",
    "}\n",
    "# the count of each value in EPC column\n",
    "df['EPC'] = df['EPC'].apply(lambda x: 'A' if 'A' in x else x)\n",
    "df['EPC'] = df['EPC'].apply(lambda x: 'F' if 'F' in x else x)\n",
    "df['EPC'] = df['EPC'].map(epc_map)\n",
    "kitchen_map = {\n",
    "    \"INSTALLED\": 1,\n",
    "    \"HYPER_EQUIPPED\": 3,\n",
    "    \"SEMI_EQUIPPED\": 2,\n",
    "    \"USA_HYPER_EQUIPPED\": 3,\n",
    "    \"NOT_INSTALLED\": 0,\n",
    "    \"USA_INSTALLED\": 1,\n",
    "    \"USA_SEMI_EQUIPPED\": 2,\n",
    "    \"USA_UNINSTALLED\": 0,\n",
    "}\n",
    "df['Kitchen Type'] = df['Kitchen Type'].map(kitchen_map)\n",
    "state_map = {\n",
    "    \"AS_NEW\": 5,\n",
    "    \"JUST_RENOVATED\": 4,\n",
    "    \"GOOD\": 3,\n",
    "    \"TO_BE_DONE_UP\": 2,\n",
    "    \"TO_RENOVATE\": 1,\n",
    "    \"TO_RESTORE\": 0,\n",
    "}\n",
    "df['State of Building'] = df['State of Building'].map(state_map)\n",
    "df.reset_index(drop=True, inplace=True)\n",
    "\n",
    "# display the percentage of missing values for each column\n",
    "missing_percent = df.isnull().sum() / df.shape[0]\n",
    "missing_percent"
   ]
  },
  {
   "cell_type": "code",
   "outputs": [
    {
     "data": {
      "text/plain": "       Bathroom Count  Bedroom Count  Habitable Surface  Land Surface  \\\n78201             0.0       0.102564           0.016580      0.003297   \n17226             0.0       0.076923           0.013940      0.005189   \n54896             0.0       0.051282           0.011194      0.000000   \n50091             0.0       0.051282           0.006336      0.000000   \n23465             0.0       0.076923           0.023973      0.003067   \n...               ...            ...                ...           ...   \n56712             NaN       0.076923           0.013729      0.000000   \n59733             NaN       0.076923           0.019537      0.003098   \n68324             0.0       0.025641           0.003907      0.000000   \n1078              0.0       0.102564           0.015841      0.005823   \n37985             0.0       0.051282           0.009505           NaN   \n\n        Facades  Subtype_APARTMENT  Subtype_DUPLEX  Subtype_FLAT_STUDIO  \\\n78201  0.065217                0.0             0.0                  0.0   \n17226  0.065217                0.0             0.0                  0.0   \n54896       NaN                1.0             0.0                  0.0   \n50091       NaN                1.0             0.0                  0.0   \n23465       NaN                0.0             0.0                  0.0   \n...         ...                ...             ...                  ...   \n56712  0.043478                0.0             0.0                  0.0   \n59733  0.043478                0.0             0.0                  0.0   \n68324  0.021739                1.0             0.0                  0.0   \n1078   0.065217                0.0             0.0                  0.0   \n37985  0.021739                0.0             0.0                  0.0   \n\n       Subtype_GROUND_FLOOR  Subtype_HOUSE  Subtype_MANSION  \\\n78201                   0.0            0.0              0.0   \n17226                   0.0            0.0              0.0   \n54896                   0.0            0.0              0.0   \n50091                   0.0            0.0              0.0   \n23465                   0.0            1.0              0.0   \n...                     ...            ...              ...   \n56712                   0.0            1.0              0.0   \n59733                   0.0            1.0              0.0   \n68324                   0.0            0.0              0.0   \n1078                    0.0            0.0              0.0   \n37985                   1.0            0.0              0.0   \n\n       Subtype_PENTHOUSE  Subtype_TOWN_HOUSE  Subtype_VILLA  \n78201                0.0                 0.0            1.0  \n17226                0.0                 0.0            1.0  \n54896                0.0                 0.0            0.0  \n50091                0.0                 0.0            0.0  \n23465                0.0                 0.0            0.0  \n...                  ...                 ...            ...  \n56712                0.0                 0.0            0.0  \n59733                0.0                 0.0            0.0  \n68324                0.0                 0.0            0.0  \n1078                 0.0                 0.0            1.0  \n37985                0.0                 0.0            0.0  \n\n[58604 rows x 14 columns]",
      "text/html": "<div>\n<style scoped>\n    .dataframe tbody tr th:only-of-type {\n        vertical-align: middle;\n    }\n\n    .dataframe tbody tr th {\n        vertical-align: top;\n    }\n\n    .dataframe thead th {\n        text-align: right;\n    }\n</style>\n<table border=\"1\" class=\"dataframe\">\n  <thead>\n    <tr style=\"text-align: right;\">\n      <th></th>\n      <th>Bathroom Count</th>\n      <th>Bedroom Count</th>\n      <th>Habitable Surface</th>\n      <th>Land Surface</th>\n      <th>Facades</th>\n      <th>Subtype_APARTMENT</th>\n      <th>Subtype_DUPLEX</th>\n      <th>Subtype_FLAT_STUDIO</th>\n      <th>Subtype_GROUND_FLOOR</th>\n      <th>Subtype_HOUSE</th>\n      <th>Subtype_MANSION</th>\n      <th>Subtype_PENTHOUSE</th>\n      <th>Subtype_TOWN_HOUSE</th>\n      <th>Subtype_VILLA</th>\n    </tr>\n  </thead>\n  <tbody>\n    <tr>\n      <th>78201</th>\n      <td>0.0</td>\n      <td>0.102564</td>\n      <td>0.016580</td>\n      <td>0.003297</td>\n      <td>0.065217</td>\n      <td>0.0</td>\n      <td>0.0</td>\n      <td>0.0</td>\n      <td>0.0</td>\n      <td>0.0</td>\n      <td>0.0</td>\n      <td>0.0</td>\n      <td>0.0</td>\n      <td>1.0</td>\n    </tr>\n    <tr>\n      <th>17226</th>\n      <td>0.0</td>\n      <td>0.076923</td>\n      <td>0.013940</td>\n      <td>0.005189</td>\n      <td>0.065217</td>\n      <td>0.0</td>\n      <td>0.0</td>\n      <td>0.0</td>\n      <td>0.0</td>\n      <td>0.0</td>\n      <td>0.0</td>\n      <td>0.0</td>\n      <td>0.0</td>\n      <td>1.0</td>\n    </tr>\n    <tr>\n      <th>54896</th>\n      <td>0.0</td>\n      <td>0.051282</td>\n      <td>0.011194</td>\n      <td>0.000000</td>\n      <td>NaN</td>\n      <td>1.0</td>\n      <td>0.0</td>\n      <td>0.0</td>\n      <td>0.0</td>\n      <td>0.0</td>\n      <td>0.0</td>\n      <td>0.0</td>\n      <td>0.0</td>\n      <td>0.0</td>\n    </tr>\n    <tr>\n      <th>50091</th>\n      <td>0.0</td>\n      <td>0.051282</td>\n      <td>0.006336</td>\n      <td>0.000000</td>\n      <td>NaN</td>\n      <td>1.0</td>\n      <td>0.0</td>\n      <td>0.0</td>\n      <td>0.0</td>\n      <td>0.0</td>\n      <td>0.0</td>\n      <td>0.0</td>\n      <td>0.0</td>\n      <td>0.0</td>\n    </tr>\n    <tr>\n      <th>23465</th>\n      <td>0.0</td>\n      <td>0.076923</td>\n      <td>0.023973</td>\n      <td>0.003067</td>\n      <td>NaN</td>\n      <td>0.0</td>\n      <td>0.0</td>\n      <td>0.0</td>\n      <td>0.0</td>\n      <td>1.0</td>\n      <td>0.0</td>\n      <td>0.0</td>\n      <td>0.0</td>\n      <td>0.0</td>\n    </tr>\n    <tr>\n      <th>...</th>\n      <td>...</td>\n      <td>...</td>\n      <td>...</td>\n      <td>...</td>\n      <td>...</td>\n      <td>...</td>\n      <td>...</td>\n      <td>...</td>\n      <td>...</td>\n      <td>...</td>\n      <td>...</td>\n      <td>...</td>\n      <td>...</td>\n      <td>...</td>\n    </tr>\n    <tr>\n      <th>56712</th>\n      <td>NaN</td>\n      <td>0.076923</td>\n      <td>0.013729</td>\n      <td>0.000000</td>\n      <td>0.043478</td>\n      <td>0.0</td>\n      <td>0.0</td>\n      <td>0.0</td>\n      <td>0.0</td>\n      <td>1.0</td>\n      <td>0.0</td>\n      <td>0.0</td>\n      <td>0.0</td>\n      <td>0.0</td>\n    </tr>\n    <tr>\n      <th>59733</th>\n      <td>NaN</td>\n      <td>0.076923</td>\n      <td>0.019537</td>\n      <td>0.003098</td>\n      <td>0.043478</td>\n      <td>0.0</td>\n      <td>0.0</td>\n      <td>0.0</td>\n      <td>0.0</td>\n      <td>1.0</td>\n      <td>0.0</td>\n      <td>0.0</td>\n      <td>0.0</td>\n      <td>0.0</td>\n    </tr>\n    <tr>\n      <th>68324</th>\n      <td>0.0</td>\n      <td>0.025641</td>\n      <td>0.003907</td>\n      <td>0.000000</td>\n      <td>0.021739</td>\n      <td>1.0</td>\n      <td>0.0</td>\n      <td>0.0</td>\n      <td>0.0</td>\n      <td>0.0</td>\n      <td>0.0</td>\n      <td>0.0</td>\n      <td>0.0</td>\n      <td>0.0</td>\n    </tr>\n    <tr>\n      <th>1078</th>\n      <td>0.0</td>\n      <td>0.102564</td>\n      <td>0.015841</td>\n      <td>0.005823</td>\n      <td>0.065217</td>\n      <td>0.0</td>\n      <td>0.0</td>\n      <td>0.0</td>\n      <td>0.0</td>\n      <td>0.0</td>\n      <td>0.0</td>\n      <td>0.0</td>\n      <td>0.0</td>\n      <td>1.0</td>\n    </tr>\n    <tr>\n      <th>37985</th>\n      <td>0.0</td>\n      <td>0.051282</td>\n      <td>0.009505</td>\n      <td>NaN</td>\n      <td>0.021739</td>\n      <td>0.0</td>\n      <td>0.0</td>\n      <td>0.0</td>\n      <td>1.0</td>\n      <td>0.0</td>\n      <td>0.0</td>\n      <td>0.0</td>\n      <td>0.0</td>\n      <td>0.0</td>\n    </tr>\n  </tbody>\n</table>\n<p>58604 rows × 14 columns</p>\n</div>"
     },
     "execution_count": 5,
     "metadata": {},
     "output_type": "execute_result"
    }
   ],
   "source": [
    "train_data"
   ],
   "metadata": {
    "collapsed": false,
    "ExecuteTime": {
     "end_time": "2024-03-14T19:59:16.863664Z",
     "start_time": "2024-03-14T19:59:16.850617Z"
    }
   },
   "id": "d3169aa7f099addb",
   "execution_count": 5
  },
  {
   "cell_type": "code",
   "outputs": [
    {
     "data": {
      "text/plain": "Bathroom Count          0.123317\nBedroom Count           0.000000\nHabitable Surface       0.000000\nLand Surface            0.086662\nFacades                 0.320885\nSubtype_APARTMENT       0.000000\nSubtype_DUPLEX          0.000000\nSubtype_FLAT_STUDIO     0.000000\nSubtype_GROUND_FLOOR    0.000000\nSubtype_HOUSE           0.000000\nSubtype_MANSION         0.000000\nSubtype_PENTHOUSE       0.000000\nSubtype_TOWN_HOUSE      0.000000\nSubtype_VILLA           0.000000\ndtype: float64"
     },
     "execution_count": 9,
     "metadata": {},
     "output_type": "execute_result"
    }
   ],
   "source": [
    "missing_percent = train_data.isnull().sum() / X_train.shape[0]\n",
    "missing_percent"
   ],
   "metadata": {
    "collapsed": false,
    "ExecuteTime": {
     "end_time": "2024-03-14T19:54:20.797534Z",
     "start_time": "2024-03-14T19:54:20.791751Z"
    }
   },
   "id": "95decde16e414a85",
   "execution_count": 9
  }
 ],
 "metadata": {
  "kernelspec": {
   "display_name": "Python 3",
   "language": "python",
   "name": "python3"
  },
  "language_info": {
   "codemirror_mode": {
    "name": "ipython",
    "version": 2
   },
   "file_extension": ".py",
   "mimetype": "text/x-python",
   "name": "python",
   "nbconvert_exporter": "python",
   "pygments_lexer": "ipython2",
   "version": "2.7.6"
  }
 },
 "nbformat": 4,
 "nbformat_minor": 5
}
