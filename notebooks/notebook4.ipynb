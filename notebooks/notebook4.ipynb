{
 "cells": [
  {
   "cell_type": "code",
   "execution_count": 1,
   "id": "initial_id",
   "metadata": {
    "collapsed": true,
    "ExecuteTime": {
     "end_time": "2024-03-14T18:30:27.964970Z",
     "start_time": "2024-03-14T18:30:27.344755Z"
    }
   },
   "outputs": [],
   "source": [
    "import pandas as pd\n",
    "from sklearn.linear_model import LinearRegression\n",
    "from sklearn.metrics import r2_score, mean_squared_error\n",
    "from sklearn.preprocessing import StandardScaler, MinMaxScaler\n",
    "\n",
    "from features.genereric_build_features import OneHotEncodeColumns\n",
    "from features.generic_transformer import MyKnnImputer, MyMinMaxScaler, ColumnSelector, RowSelectorByCategory, \\\n",
    "    DataFrameStandardScaler\n",
    "from sklearn.pipeline import Pipeline\n",
    "from sklearn.model_selection import train_test_split\n",
    "\n",
    "df = pd.read_csv('/home/gg/PycharmProjects/immo-prediction/data/raw/data.csv', low_memory=False)\n",
    "df.head()\n",
    "\n",
    "df.loc[df['Subtype'] == 'APARTMENT', 'Land Surface'] = 0\n",
    "\n",
    "X = df.drop(columns=['Price'])\n",
    "y = df['Price']\n",
    "\n",
    "X_train, X_test, y_train, y_test = train_test_split(X, y, random_state=41, test_size=0.2)\n",
    "\n",
    "train_data = pd.concat([X_train, y_train], axis=1)\n",
    "\n",
    "keep_columns = ['Bathroom Count', 'Bedroom Count', 'Habitable Surface', 'Land Surface', 'Facades', 'Subtype',]\n",
    "sub_types_to_keep = [\n",
    "    'VILLA', 'HOUSE', 'APARTMENT', 'MANSION', 'PENTHOUSE', 'TOWN_HOUSE', 'GROUND_FLOOR', 'FLAT_STUDIO', 'DUPLEX',\n",
    "]\n",
    "\n",
    "pipeline = Pipeline([\n",
    "    (\"Column keeper\", ColumnSelector(keep_columns=keep_columns)),\n",
    "    (\"Keep categories\", RowSelectorByCategory(column='Subtype', categories_to_keep=sub_types_to_keep)),\n",
    "    (\"One hot encode subtypes\", OneHotEncodeColumns(['Subtype'])),\n",
    "    (\"Standardize data\", DataFrameStandardScaler()),\n",
    "    # (\"Min Max scaler\", MinMaxScaler()),\n",
    "])\n",
    "\n",
    "X_train = pipeline.fit_transform(X_train)\n",
    "X_test = pipeline.transform(X_test)"
   ]
  },
  {
   "cell_type": "code",
   "outputs": [
    {
     "data": {
      "text/plain": "Bathroom Count          0.149291\nBedroom Count           0.000000\nHabitable Surface       0.095814\nLand Surface            0.090568\nFacades                 0.358817\nSubtype_APARTMENT       0.000000\nSubtype_DUPLEX          0.000000\nSubtype_FLAT_STUDIO     0.000000\nSubtype_GROUND_FLOOR    0.000000\nSubtype_HOUSE           0.000000\nSubtype_MANSION         0.000000\nSubtype_PENTHOUSE       0.000000\nSubtype_TOWN_HOUSE      0.000000\nSubtype_VILLA           0.000000\ndtype: float64"
     },
     "execution_count": 3,
     "metadata": {},
     "output_type": "execute_result"
    }
   ],
   "source": [
    "missing_percent = X_train.isnull().sum() / X_train.shape[0]\n",
    "missing_percent"
   ],
   "metadata": {
    "collapsed": false,
    "ExecuteTime": {
     "end_time": "2024-03-14T18:30:43.716833Z",
     "start_time": "2024-03-14T18:30:43.702895Z"
    }
   },
   "id": "95decde16e414a85",
   "execution_count": 3
  }
 ],
 "metadata": {
  "kernelspec": {
   "display_name": "Python 3",
   "language": "python",
   "name": "python3"
  },
  "language_info": {
   "codemirror_mode": {
    "name": "ipython",
    "version": 2
   },
   "file_extension": ".py",
   "mimetype": "text/x-python",
   "name": "python",
   "nbconvert_exporter": "python",
   "pygments_lexer": "ipython2",
   "version": "2.7.6"
  }
 },
 "nbformat": 4,
 "nbformat_minor": 5
}
