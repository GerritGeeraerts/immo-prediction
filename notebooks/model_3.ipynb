{
 "cells": [
  {
   "cell_type": "code",
   "execution_count": 95,
   "id": "initial_id",
   "metadata": {
    "collapsed": true,
    "ExecuteTime": {
     "end_time": "2024-03-14T11:18:52.524917Z",
     "start_time": "2024-03-14T11:18:52.521723Z"
    }
   },
   "outputs": [],
   "source": [
    "import pandas as pd"
   ]
  },
  {
   "cell_type": "code",
   "outputs": [
    {
     "data": {
      "text/plain": "         ID        Locality  Postal Code  Build Year  Facades  \\\n0  11129943  Heusden-Zolder         3550         NaN      4.0   \n1  11188967           Uccle         1180      2013.0      4.0   \n2   9741047             Ath         7800         NaN      NaN   \n3  10988804         Enghien         7850         NaN      3.0   \n4  10551894           Uccle         1180      1920.0      4.0   \n\n   Habitable Surface  Land Surface   Type          Subtype    Price  ...  \\\n0              394.0       10000.0  HOUSE            HOUSE  1399000  ...   \n1              840.0        4425.0  HOUSE            HOUSE  4950000  ...   \n2              170.0         583.0  HOUSE            HOUSE   372054  ...   \n3             1104.0        1840.0  HOUSE  APARTMENT_BLOCK  1800000  ...   \n4              650.0        2000.0  HOUSE            VILLA  3950000  ...   \n\n  Is Holiday Property  Gas Water Electricity          Sewer  Sea view  \\\n0                 NaN                  False      CONNECTED       NaN   \n1                 NaN                    NaN            NaN       NaN   \n2               False                  False  NOT_CONNECTED       NaN   \n3                 NaN                    NaN            NaN       NaN   \n4                 NaN                    NaN            NaN       NaN   \n\n   Parking count inside  Parking count outside  \\\n0                   NaN                    NaN   \n1                   2.0                    2.0   \n2                   NaN                    NaN   \n3                   2.0                    3.0   \n4                   2.0                    4.0   \n\n                                                 url   Latitude  Longitude  \\\n0  https://www.immoweb.be/en/classified/house/for...        NaN        NaN   \n1  https://www.immoweb.be/en/classified/house/for...        NaN        NaN   \n2  https://www.immoweb.be/en/classified/house/for...  50.633501   3.788273   \n3  https://www.immoweb.be/en/classified/house/for...        NaN        NaN   \n4  https://www.immoweb.be/en/classified/house/for...        NaN        NaN   \n\n   Consumption  \n0        115.0  \n1         61.0  \n2          NaN  \n3        832.0  \n4          NaN  \n\n[5 rows x 45 columns]",
      "text/html": "<div>\n<style scoped>\n    .dataframe tbody tr th:only-of-type {\n        vertical-align: middle;\n    }\n\n    .dataframe tbody tr th {\n        vertical-align: top;\n    }\n\n    .dataframe thead th {\n        text-align: right;\n    }\n</style>\n<table border=\"1\" class=\"dataframe\">\n  <thead>\n    <tr style=\"text-align: right;\">\n      <th></th>\n      <th>ID</th>\n      <th>Locality</th>\n      <th>Postal Code</th>\n      <th>Build Year</th>\n      <th>Facades</th>\n      <th>Habitable Surface</th>\n      <th>Land Surface</th>\n      <th>Type</th>\n      <th>Subtype</th>\n      <th>Price</th>\n      <th>...</th>\n      <th>Is Holiday Property</th>\n      <th>Gas Water Electricity</th>\n      <th>Sewer</th>\n      <th>Sea view</th>\n      <th>Parking count inside</th>\n      <th>Parking count outside</th>\n      <th>url</th>\n      <th>Latitude</th>\n      <th>Longitude</th>\n      <th>Consumption</th>\n    </tr>\n  </thead>\n  <tbody>\n    <tr>\n      <th>0</th>\n      <td>11129943</td>\n      <td>Heusden-Zolder</td>\n      <td>3550</td>\n      <td>NaN</td>\n      <td>4.0</td>\n      <td>394.0</td>\n      <td>10000.0</td>\n      <td>HOUSE</td>\n      <td>HOUSE</td>\n      <td>1399000</td>\n      <td>...</td>\n      <td>NaN</td>\n      <td>False</td>\n      <td>CONNECTED</td>\n      <td>NaN</td>\n      <td>NaN</td>\n      <td>NaN</td>\n      <td>https://www.immoweb.be/en/classified/house/for...</td>\n      <td>NaN</td>\n      <td>NaN</td>\n      <td>115.0</td>\n    </tr>\n    <tr>\n      <th>1</th>\n      <td>11188967</td>\n      <td>Uccle</td>\n      <td>1180</td>\n      <td>2013.0</td>\n      <td>4.0</td>\n      <td>840.0</td>\n      <td>4425.0</td>\n      <td>HOUSE</td>\n      <td>HOUSE</td>\n      <td>4950000</td>\n      <td>...</td>\n      <td>NaN</td>\n      <td>NaN</td>\n      <td>NaN</td>\n      <td>NaN</td>\n      <td>2.0</td>\n      <td>2.0</td>\n      <td>https://www.immoweb.be/en/classified/house/for...</td>\n      <td>NaN</td>\n      <td>NaN</td>\n      <td>61.0</td>\n    </tr>\n    <tr>\n      <th>2</th>\n      <td>9741047</td>\n      <td>Ath</td>\n      <td>7800</td>\n      <td>NaN</td>\n      <td>NaN</td>\n      <td>170.0</td>\n      <td>583.0</td>\n      <td>HOUSE</td>\n      <td>HOUSE</td>\n      <td>372054</td>\n      <td>...</td>\n      <td>False</td>\n      <td>False</td>\n      <td>NOT_CONNECTED</td>\n      <td>NaN</td>\n      <td>NaN</td>\n      <td>NaN</td>\n      <td>https://www.immoweb.be/en/classified/house/for...</td>\n      <td>50.633501</td>\n      <td>3.788273</td>\n      <td>NaN</td>\n    </tr>\n    <tr>\n      <th>3</th>\n      <td>10988804</td>\n      <td>Enghien</td>\n      <td>7850</td>\n      <td>NaN</td>\n      <td>3.0</td>\n      <td>1104.0</td>\n      <td>1840.0</td>\n      <td>HOUSE</td>\n      <td>APARTMENT_BLOCK</td>\n      <td>1800000</td>\n      <td>...</td>\n      <td>NaN</td>\n      <td>NaN</td>\n      <td>NaN</td>\n      <td>NaN</td>\n      <td>2.0</td>\n      <td>3.0</td>\n      <td>https://www.immoweb.be/en/classified/house/for...</td>\n      <td>NaN</td>\n      <td>NaN</td>\n      <td>832.0</td>\n    </tr>\n    <tr>\n      <th>4</th>\n      <td>10551894</td>\n      <td>Uccle</td>\n      <td>1180</td>\n      <td>1920.0</td>\n      <td>4.0</td>\n      <td>650.0</td>\n      <td>2000.0</td>\n      <td>HOUSE</td>\n      <td>VILLA</td>\n      <td>3950000</td>\n      <td>...</td>\n      <td>NaN</td>\n      <td>NaN</td>\n      <td>NaN</td>\n      <td>NaN</td>\n      <td>2.0</td>\n      <td>4.0</td>\n      <td>https://www.immoweb.be/en/classified/house/for...</td>\n      <td>NaN</td>\n      <td>NaN</td>\n      <td>NaN</td>\n    </tr>\n  </tbody>\n</table>\n<p>5 rows × 45 columns</p>\n</div>"
     },
     "execution_count": 96,
     "metadata": {},
     "output_type": "execute_result"
    }
   ],
   "source": [
    "df = pd.read_csv('../data/raw/data.csv', low_memory=False)\n",
    "df.head()"
   ],
   "metadata": {
    "collapsed": false,
    "ExecuteTime": {
     "end_time": "2024-03-14T11:18:52.917716Z",
     "start_time": "2024-03-14T11:18:52.545842Z"
    }
   },
   "id": "20583632a1ea4aa5",
   "execution_count": 96
  },
  {
   "cell_type": "code",
   "outputs": [],
   "source": [
    "# print all the columns for auto-completion\n",
    "columns = ['ID', 'Locality', 'Postal Code', 'Build Year', 'Facades',\n",
    "       'Habitable Surface', 'Land Surface', 'Type', 'Subtype', 'Price',\n",
    "       'Sale Type', 'Bedroom Count', 'Bathroom Count', 'Toilet Count',\n",
    "       'Room Count', 'Kitchen Surface', 'Kitchen', 'Kitchen Type', 'Furnished',\n",
    "       'Openfire', 'Fireplace Count', 'Terrace', 'Terrace Surface',\n",
    "       'Terrace Orientation', 'Garden Exists', 'Garden Surface',\n",
    "       'Garden Orientation', 'Swimming Pool', 'State of Building',\n",
    "       'Living Surface', 'EPC', 'Cadastral Income', 'Has starting Price',\n",
    "       'Transaction Subtype', 'Heating Type', 'Is Holiday Property',\n",
    "       'Gas Water Electricity', 'Sewer', 'Sea view', 'Parking count inside',\n",
    "       'Parking count outside', 'url', 'Latitude', 'Longitude']\n",
    "# df.columns"
   ],
   "metadata": {
    "collapsed": false,
    "ExecuteTime": {
     "end_time": "2024-03-14T11:18:52.922698Z",
     "start_time": "2024-03-14T11:18:52.919523Z"
    }
   },
   "id": "91fc7e0920ba786e",
   "execution_count": 97
  },
  {
   "cell_type": "markdown",
   "source": [],
   "metadata": {
    "collapsed": false
   },
   "id": "a24157747b092303"
  },
  {
   "cell_type": "markdown",
   "source": [
    "# split the data"
   ],
   "metadata": {
    "collapsed": false
   },
   "id": "6f0192be7e2a3b26"
  },
  {
   "cell_type": "code",
   "outputs": [],
   "source": [
    "from sklearn.model_selection import train_test_split\n",
    "\n",
    "X = df.drop(columns=['Price'])\n",
    "y = df['Price']\n",
    "\n",
    "X_train, X_test, y_train, y_test = train_test_split(X, y, random_state=41, test_size=0.2)\n",
    "\n",
    "train_data = pd.concat([X_train, y_train], axis=1)"
   ],
   "metadata": {
    "collapsed": false,
    "ExecuteTime": {
     "end_time": "2024-03-14T11:18:52.995523Z",
     "start_time": "2024-03-14T11:18:52.923986Z"
    }
   },
   "id": "60dc5522213aa323",
   "execution_count": 98
  },
  {
   "cell_type": "code",
   "outputs": [
    {
     "data": {
      "text/plain": "                          Price\nBathroom Count         0.351623\nBedroom Count          0.345054\nLatitude               0.225603\nTerrace Surface        0.224730\nFireplace Count        0.213150\nHabitable Surface      0.201494\nGarden Surface         0.161538\nLand Surface           0.158689\nFacades                0.148851\nLiving Surface         0.038944\nKitchen Surface        0.021042\nParking count outside  0.018214\nCadastral Income       0.002557\nToilet Count           0.001110\nConsumption            0.001007\nRoom Count             0.000953\nParking count inside   0.000190\nID                    -0.015319\nBuild Year            -0.034354\nPostal Code           -0.039269\nLongitude             -0.118099",
      "text/html": "<div>\n<style scoped>\n    .dataframe tbody tr th:only-of-type {\n        vertical-align: middle;\n    }\n\n    .dataframe tbody tr th {\n        vertical-align: top;\n    }\n\n    .dataframe thead th {\n        text-align: right;\n    }\n</style>\n<table border=\"1\" class=\"dataframe\">\n  <thead>\n    <tr style=\"text-align: right;\">\n      <th></th>\n      <th>Price</th>\n    </tr>\n  </thead>\n  <tbody>\n    <tr>\n      <th>Bathroom Count</th>\n      <td>0.351623</td>\n    </tr>\n    <tr>\n      <th>Bedroom Count</th>\n      <td>0.345054</td>\n    </tr>\n    <tr>\n      <th>Latitude</th>\n      <td>0.225603</td>\n    </tr>\n    <tr>\n      <th>Terrace Surface</th>\n      <td>0.224730</td>\n    </tr>\n    <tr>\n      <th>Fireplace Count</th>\n      <td>0.213150</td>\n    </tr>\n    <tr>\n      <th>Habitable Surface</th>\n      <td>0.201494</td>\n    </tr>\n    <tr>\n      <th>Garden Surface</th>\n      <td>0.161538</td>\n    </tr>\n    <tr>\n      <th>Land Surface</th>\n      <td>0.158689</td>\n    </tr>\n    <tr>\n      <th>Facades</th>\n      <td>0.148851</td>\n    </tr>\n    <tr>\n      <th>Living Surface</th>\n      <td>0.038944</td>\n    </tr>\n    <tr>\n      <th>Kitchen Surface</th>\n      <td>0.021042</td>\n    </tr>\n    <tr>\n      <th>Parking count outside</th>\n      <td>0.018214</td>\n    </tr>\n    <tr>\n      <th>Cadastral Income</th>\n      <td>0.002557</td>\n    </tr>\n    <tr>\n      <th>Toilet Count</th>\n      <td>0.001110</td>\n    </tr>\n    <tr>\n      <th>Consumption</th>\n      <td>0.001007</td>\n    </tr>\n    <tr>\n      <th>Room Count</th>\n      <td>0.000953</td>\n    </tr>\n    <tr>\n      <th>Parking count inside</th>\n      <td>0.000190</td>\n    </tr>\n    <tr>\n      <th>ID</th>\n      <td>-0.015319</td>\n    </tr>\n    <tr>\n      <th>Build Year</th>\n      <td>-0.034354</td>\n    </tr>\n    <tr>\n      <th>Postal Code</th>\n      <td>-0.039269</td>\n    </tr>\n    <tr>\n      <th>Longitude</th>\n      <td>-0.118099</td>\n    </tr>\n  </tbody>\n</table>\n</div>"
     },
     "execution_count": 99,
     "metadata": {},
     "output_type": "execute_result"
    }
   ],
   "source": [
    "# calculate a dataframe with the correlation to the price for all numeric features\n",
    "\n",
    "numeric_training_data = train_data.select_dtypes(include=['int64', 'float64'])\n",
    "\n",
    "correlation = numeric_training_data.corr()['Price'].sort_values(ascending=False)\n",
    "correlation = correlation.drop('Price')\n",
    "correlation = correlation.to_frame()\n",
    "correlation"
   ],
   "metadata": {
    "collapsed": false,
    "ExecuteTime": {
     "end_time": "2024-03-14T11:18:53.069918Z",
     "start_time": "2024-03-14T11:18:52.997437Z"
    }
   },
   "id": "6ac4f249a9fcd719",
   "execution_count": 99
  },
  {
   "cell_type": "code",
   "outputs": [],
   "source": [
    "keep_columns = ['Bathroom Count', 'Bedroom Count', 'Habitable Surface', 'Land Surface', 'Facades', 'Subtype']\n",
    "df = df[keep_columns + ['Price']]"
   ],
   "metadata": {
    "collapsed": false,
    "ExecuteTime": {
     "end_time": "2024-03-14T11:18:53.075981Z",
     "start_time": "2024-03-14T11:18:53.071296Z"
    }
   },
   "id": "3351f32d082a6727",
   "execution_count": 100
  },
  {
   "cell_type": "code",
   "outputs": [],
   "source": [
    "keep_subtypes = ['VILLA', 'HOUSE', 'APARTMENT', 'MANSION', 'PENTHOUSE', 'TOWN_HOUSE', 'GROUND_FLOOR', 'FLAT_STUDIO', 'DUPLEX',]"
   ],
   "metadata": {
    "collapsed": false,
    "ExecuteTime": {
     "end_time": "2024-03-14T11:18:53.087096Z",
     "start_time": "2024-03-14T11:18:53.077623Z"
    }
   },
   "id": "4e500269b13536c6",
   "execution_count": 101
  },
  {
   "cell_type": "code",
   "outputs": [],
   "source": [
    "df = df[df['Subtype'].isin(keep_subtypes)]"
   ],
   "metadata": {
    "collapsed": false,
    "ExecuteTime": {
     "end_time": "2024-03-14T11:18:53.099761Z",
     "start_time": "2024-03-14T11:18:53.088728Z"
    }
   },
   "id": "3984c8814f049d1b",
   "execution_count": 102
  },
  {
   "cell_type": "code",
   "outputs": [
    {
     "data": {
      "text/plain": "       Bathroom Count  Bedroom Count  Habitable Surface  Land Surface  \\\n0                 2.0            3.0              394.0       10000.0   \n1                 5.0            6.0              840.0        4425.0   \n2                 NaN            3.0              170.0         583.0   \n4                 5.0            6.0              650.0        2000.0   \n5                 5.0            5.0              530.0         213.0   \n...               ...            ...                ...           ...   \n88854             1.0            4.0              180.0           NaN   \n88855             1.0            4.0              180.0           NaN   \n88856             2.0            3.0                NaN           NaN   \n88857             1.0            2.0               89.0           NaN   \n88858             NaN            3.0              171.0         197.0   \n\n       Facades    Price  Subtype_APARTMENT  Subtype_DUPLEX  \\\n0          4.0  1399000                0.0             0.0   \n1          4.0  4950000                0.0             0.0   \n2          NaN   372054                0.0             0.0   \n4          4.0  3950000                0.0             0.0   \n5          2.0  3950000                0.0             0.0   \n...        ...      ...                ...             ...   \n88854      4.0   150000                1.0             0.0   \n88855      4.0   150000                1.0             0.0   \n88856      2.0   150000                0.0             1.0   \n88857      2.0   260000                1.0             0.0   \n88858      3.0   297019                0.0             0.0   \n\n       Subtype_FLAT_STUDIO  Subtype_GROUND_FLOOR  Subtype_HOUSE  \\\n0                      0.0                   0.0            1.0   \n1                      0.0                   0.0            1.0   \n2                      0.0                   0.0            1.0   \n4                      0.0                   0.0            0.0   \n5                      0.0                   0.0            0.0   \n...                    ...                   ...            ...   \n88854                  0.0                   0.0            0.0   \n88855                  0.0                   0.0            0.0   \n88856                  0.0                   0.0            0.0   \n88857                  0.0                   0.0            0.0   \n88858                  0.0                   0.0            1.0   \n\n       Subtype_MANSION  Subtype_PENTHOUSE  Subtype_TOWN_HOUSE  Subtype_VILLA  \n0                  0.0                0.0                 0.0            0.0  \n1                  0.0                0.0                 0.0            0.0  \n2                  0.0                0.0                 0.0            0.0  \n4                  0.0                0.0                 0.0            1.0  \n5                  1.0                0.0                 0.0            0.0  \n...                ...                ...                 ...            ...  \n88854              0.0                0.0                 0.0            0.0  \n88855              0.0                0.0                 0.0            0.0  \n88856              0.0                0.0                 0.0            0.0  \n88857              0.0                0.0                 0.0            0.0  \n88858              0.0                0.0                 0.0            0.0  \n\n[80992 rows x 15 columns]",
      "text/html": "<div>\n<style scoped>\n    .dataframe tbody tr th:only-of-type {\n        vertical-align: middle;\n    }\n\n    .dataframe tbody tr th {\n        vertical-align: top;\n    }\n\n    .dataframe thead th {\n        text-align: right;\n    }\n</style>\n<table border=\"1\" class=\"dataframe\">\n  <thead>\n    <tr style=\"text-align: right;\">\n      <th></th>\n      <th>Bathroom Count</th>\n      <th>Bedroom Count</th>\n      <th>Habitable Surface</th>\n      <th>Land Surface</th>\n      <th>Facades</th>\n      <th>Price</th>\n      <th>Subtype_APARTMENT</th>\n      <th>Subtype_DUPLEX</th>\n      <th>Subtype_FLAT_STUDIO</th>\n      <th>Subtype_GROUND_FLOOR</th>\n      <th>Subtype_HOUSE</th>\n      <th>Subtype_MANSION</th>\n      <th>Subtype_PENTHOUSE</th>\n      <th>Subtype_TOWN_HOUSE</th>\n      <th>Subtype_VILLA</th>\n    </tr>\n  </thead>\n  <tbody>\n    <tr>\n      <th>0</th>\n      <td>2.0</td>\n      <td>3.0</td>\n      <td>394.0</td>\n      <td>10000.0</td>\n      <td>4.0</td>\n      <td>1399000</td>\n      <td>0.0</td>\n      <td>0.0</td>\n      <td>0.0</td>\n      <td>0.0</td>\n      <td>1.0</td>\n      <td>0.0</td>\n      <td>0.0</td>\n      <td>0.0</td>\n      <td>0.0</td>\n    </tr>\n    <tr>\n      <th>1</th>\n      <td>5.0</td>\n      <td>6.0</td>\n      <td>840.0</td>\n      <td>4425.0</td>\n      <td>4.0</td>\n      <td>4950000</td>\n      <td>0.0</td>\n      <td>0.0</td>\n      <td>0.0</td>\n      <td>0.0</td>\n      <td>1.0</td>\n      <td>0.0</td>\n      <td>0.0</td>\n      <td>0.0</td>\n      <td>0.0</td>\n    </tr>\n    <tr>\n      <th>2</th>\n      <td>NaN</td>\n      <td>3.0</td>\n      <td>170.0</td>\n      <td>583.0</td>\n      <td>NaN</td>\n      <td>372054</td>\n      <td>0.0</td>\n      <td>0.0</td>\n      <td>0.0</td>\n      <td>0.0</td>\n      <td>1.0</td>\n      <td>0.0</td>\n      <td>0.0</td>\n      <td>0.0</td>\n      <td>0.0</td>\n    </tr>\n    <tr>\n      <th>4</th>\n      <td>5.0</td>\n      <td>6.0</td>\n      <td>650.0</td>\n      <td>2000.0</td>\n      <td>4.0</td>\n      <td>3950000</td>\n      <td>0.0</td>\n      <td>0.0</td>\n      <td>0.0</td>\n      <td>0.0</td>\n      <td>0.0</td>\n      <td>0.0</td>\n      <td>0.0</td>\n      <td>0.0</td>\n      <td>1.0</td>\n    </tr>\n    <tr>\n      <th>5</th>\n      <td>5.0</td>\n      <td>5.0</td>\n      <td>530.0</td>\n      <td>213.0</td>\n      <td>2.0</td>\n      <td>3950000</td>\n      <td>0.0</td>\n      <td>0.0</td>\n      <td>0.0</td>\n      <td>0.0</td>\n      <td>0.0</td>\n      <td>1.0</td>\n      <td>0.0</td>\n      <td>0.0</td>\n      <td>0.0</td>\n    </tr>\n    <tr>\n      <th>...</th>\n      <td>...</td>\n      <td>...</td>\n      <td>...</td>\n      <td>...</td>\n      <td>...</td>\n      <td>...</td>\n      <td>...</td>\n      <td>...</td>\n      <td>...</td>\n      <td>...</td>\n      <td>...</td>\n      <td>...</td>\n      <td>...</td>\n      <td>...</td>\n      <td>...</td>\n    </tr>\n    <tr>\n      <th>88854</th>\n      <td>1.0</td>\n      <td>4.0</td>\n      <td>180.0</td>\n      <td>NaN</td>\n      <td>4.0</td>\n      <td>150000</td>\n      <td>1.0</td>\n      <td>0.0</td>\n      <td>0.0</td>\n      <td>0.0</td>\n      <td>0.0</td>\n      <td>0.0</td>\n      <td>0.0</td>\n      <td>0.0</td>\n      <td>0.0</td>\n    </tr>\n    <tr>\n      <th>88855</th>\n      <td>1.0</td>\n      <td>4.0</td>\n      <td>180.0</td>\n      <td>NaN</td>\n      <td>4.0</td>\n      <td>150000</td>\n      <td>1.0</td>\n      <td>0.0</td>\n      <td>0.0</td>\n      <td>0.0</td>\n      <td>0.0</td>\n      <td>0.0</td>\n      <td>0.0</td>\n      <td>0.0</td>\n      <td>0.0</td>\n    </tr>\n    <tr>\n      <th>88856</th>\n      <td>2.0</td>\n      <td>3.0</td>\n      <td>NaN</td>\n      <td>NaN</td>\n      <td>2.0</td>\n      <td>150000</td>\n      <td>0.0</td>\n      <td>1.0</td>\n      <td>0.0</td>\n      <td>0.0</td>\n      <td>0.0</td>\n      <td>0.0</td>\n      <td>0.0</td>\n      <td>0.0</td>\n      <td>0.0</td>\n    </tr>\n    <tr>\n      <th>88857</th>\n      <td>1.0</td>\n      <td>2.0</td>\n      <td>89.0</td>\n      <td>NaN</td>\n      <td>2.0</td>\n      <td>260000</td>\n      <td>1.0</td>\n      <td>0.0</td>\n      <td>0.0</td>\n      <td>0.0</td>\n      <td>0.0</td>\n      <td>0.0</td>\n      <td>0.0</td>\n      <td>0.0</td>\n      <td>0.0</td>\n    </tr>\n    <tr>\n      <th>88858</th>\n      <td>NaN</td>\n      <td>3.0</td>\n      <td>171.0</td>\n      <td>197.0</td>\n      <td>3.0</td>\n      <td>297019</td>\n      <td>0.0</td>\n      <td>0.0</td>\n      <td>0.0</td>\n      <td>0.0</td>\n      <td>1.0</td>\n      <td>0.0</td>\n      <td>0.0</td>\n      <td>0.0</td>\n      <td>0.0</td>\n    </tr>\n  </tbody>\n</table>\n<p>80992 rows × 15 columns</p>\n</div>"
     },
     "execution_count": 103,
     "metadata": {},
     "output_type": "execute_result"
    }
   ],
   "source": [
    "from sklearn.preprocessing import OneHotEncoder\n",
    "\n",
    "# one hot encode the subtypes as numeric values 0 or 1\n",
    "ohe_subtypes = OneHotEncoder(handle_unknown='ignore', sparse_output=False).set_output(transform='pandas')\n",
    "ohe_subtypes.fit(df[['Subtype']])\n",
    "df_ohe = ohe_subtypes.transform(df[['Subtype']])\n",
    "df = pd.concat([df, df_ohe], axis=1)\n",
    "df.drop('Subtype', axis=1, inplace=True)\n",
    "df"
   ],
   "metadata": {
    "collapsed": false,
    "ExecuteTime": {
     "end_time": "2024-03-14T11:18:53.132490Z",
     "start_time": "2024-03-14T11:18:53.102138Z"
    }
   },
   "id": "9cf993bc4564c45",
   "execution_count": 103
  },
  {
   "cell_type": "code",
   "outputs": [
    {
     "data": {
      "text/plain": "                         Price\nBathroom Count        0.321298\nBedroom Count         0.316904\nSubtype_VILLA         0.266714\nLand Surface          0.241080\nHabitable Surface     0.162396\nFacades               0.158486\nSubtype_PENTHOUSE     0.084503\nSubtype_MANSION       0.072895\nSubtype_DUPLEX        0.016861\nSubtype_TOWN_HOUSE   -0.010920\nSubtype_GROUND_FLOOR -0.029010\nSubtype_HOUSE        -0.052128\nSubtype_FLAT_STUDIO  -0.056894\nSubtype_APARTMENT    -0.087090",
      "text/html": "<div>\n<style scoped>\n    .dataframe tbody tr th:only-of-type {\n        vertical-align: middle;\n    }\n\n    .dataframe tbody tr th {\n        vertical-align: top;\n    }\n\n    .dataframe thead th {\n        text-align: right;\n    }\n</style>\n<table border=\"1\" class=\"dataframe\">\n  <thead>\n    <tr style=\"text-align: right;\">\n      <th></th>\n      <th>Price</th>\n    </tr>\n  </thead>\n  <tbody>\n    <tr>\n      <th>Bathroom Count</th>\n      <td>0.321298</td>\n    </tr>\n    <tr>\n      <th>Bedroom Count</th>\n      <td>0.316904</td>\n    </tr>\n    <tr>\n      <th>Subtype_VILLA</th>\n      <td>0.266714</td>\n    </tr>\n    <tr>\n      <th>Land Surface</th>\n      <td>0.241080</td>\n    </tr>\n    <tr>\n      <th>Habitable Surface</th>\n      <td>0.162396</td>\n    </tr>\n    <tr>\n      <th>Facades</th>\n      <td>0.158486</td>\n    </tr>\n    <tr>\n      <th>Subtype_PENTHOUSE</th>\n      <td>0.084503</td>\n    </tr>\n    <tr>\n      <th>Subtype_MANSION</th>\n      <td>0.072895</td>\n    </tr>\n    <tr>\n      <th>Subtype_DUPLEX</th>\n      <td>0.016861</td>\n    </tr>\n    <tr>\n      <th>Subtype_TOWN_HOUSE</th>\n      <td>-0.010920</td>\n    </tr>\n    <tr>\n      <th>Subtype_GROUND_FLOOR</th>\n      <td>-0.029010</td>\n    </tr>\n    <tr>\n      <th>Subtype_HOUSE</th>\n      <td>-0.052128</td>\n    </tr>\n    <tr>\n      <th>Subtype_FLAT_STUDIO</th>\n      <td>-0.056894</td>\n    </tr>\n    <tr>\n      <th>Subtype_APARTMENT</th>\n      <td>-0.087090</td>\n    </tr>\n  </tbody>\n</table>\n</div>"
     },
     "execution_count": 104,
     "metadata": {},
     "output_type": "execute_result"
    }
   ],
   "source": [
    "# Give me a df that shows the correlation with the price \n",
    "\n",
    "correlation = df.corr()['Price'].sort_values(ascending=False)\n",
    "correlation = correlation.drop('Price')\n",
    "correlation = correlation.to_frame()\n",
    "correlation"
   ],
   "metadata": {
    "collapsed": false,
    "ExecuteTime": {
     "end_time": "2024-03-14T11:18:53.171070Z",
     "start_time": "2024-03-14T11:18:53.134135Z"
    }
   },
   "id": "2565cb04a5382c92",
   "execution_count": 104
  },
  {
   "cell_type": "code",
   "outputs": [],
   "source": [
    " "
   ],
   "metadata": {
    "collapsed": false,
    "ExecuteTime": {
     "end_time": "2024-03-14T11:18:53.175661Z",
     "start_time": "2024-03-14T11:18:53.173418Z"
    }
   },
   "id": "3fdffc992e222562",
   "execution_count": 104
  },
  {
   "cell_type": "code",
   "outputs": [
    {
     "data": {
      "text/plain": "       Bathroom Count  Bedroom Count  Habitable Surface  Land Surface  \\\n0                 2.0            3.0              394.0       10000.0   \n1                 5.0            6.0              840.0        4425.0   \n2                 NaN            3.0              170.0         583.0   \n4                 5.0            6.0              650.0        2000.0   \n5                 5.0            5.0              530.0         213.0   \n...               ...            ...                ...           ...   \n88854             1.0            4.0              180.0           NaN   \n88855             1.0            4.0              180.0           NaN   \n88856             2.0            3.0                NaN           NaN   \n88857             1.0            2.0               89.0           NaN   \n88858             NaN            3.0              171.0         197.0   \n\n       Facades    Price  Subtype_HOUSE  Subtype_VILLA  \n0          4.0  1399000            1.0            0.0  \n1          4.0  4950000            1.0            0.0  \n2          NaN   372054            1.0            0.0  \n4          4.0  3950000            0.0            1.0  \n5          2.0  3950000            0.0            0.0  \n...        ...      ...            ...            ...  \n88854      4.0   150000            0.0            0.0  \n88855      4.0   150000            0.0            0.0  \n88856      2.0   150000            0.0            0.0  \n88857      2.0   260000            0.0            0.0  \n88858      3.0   297019            1.0            0.0  \n\n[80992 rows x 8 columns]",
      "text/html": "<div>\n<style scoped>\n    .dataframe tbody tr th:only-of-type {\n        vertical-align: middle;\n    }\n\n    .dataframe tbody tr th {\n        vertical-align: top;\n    }\n\n    .dataframe thead th {\n        text-align: right;\n    }\n</style>\n<table border=\"1\" class=\"dataframe\">\n  <thead>\n    <tr style=\"text-align: right;\">\n      <th></th>\n      <th>Bathroom Count</th>\n      <th>Bedroom Count</th>\n      <th>Habitable Surface</th>\n      <th>Land Surface</th>\n      <th>Facades</th>\n      <th>Price</th>\n      <th>Subtype_HOUSE</th>\n      <th>Subtype_VILLA</th>\n    </tr>\n  </thead>\n  <tbody>\n    <tr>\n      <th>0</th>\n      <td>2.0</td>\n      <td>3.0</td>\n      <td>394.0</td>\n      <td>10000.0</td>\n      <td>4.0</td>\n      <td>1399000</td>\n      <td>1.0</td>\n      <td>0.0</td>\n    </tr>\n    <tr>\n      <th>1</th>\n      <td>5.0</td>\n      <td>6.0</td>\n      <td>840.0</td>\n      <td>4425.0</td>\n      <td>4.0</td>\n      <td>4950000</td>\n      <td>1.0</td>\n      <td>0.0</td>\n    </tr>\n    <tr>\n      <th>2</th>\n      <td>NaN</td>\n      <td>3.0</td>\n      <td>170.0</td>\n      <td>583.0</td>\n      <td>NaN</td>\n      <td>372054</td>\n      <td>1.0</td>\n      <td>0.0</td>\n    </tr>\n    <tr>\n      <th>4</th>\n      <td>5.0</td>\n      <td>6.0</td>\n      <td>650.0</td>\n      <td>2000.0</td>\n      <td>4.0</td>\n      <td>3950000</td>\n      <td>0.0</td>\n      <td>1.0</td>\n    </tr>\n    <tr>\n      <th>5</th>\n      <td>5.0</td>\n      <td>5.0</td>\n      <td>530.0</td>\n      <td>213.0</td>\n      <td>2.0</td>\n      <td>3950000</td>\n      <td>0.0</td>\n      <td>0.0</td>\n    </tr>\n    <tr>\n      <th>...</th>\n      <td>...</td>\n      <td>...</td>\n      <td>...</td>\n      <td>...</td>\n      <td>...</td>\n      <td>...</td>\n      <td>...</td>\n      <td>...</td>\n    </tr>\n    <tr>\n      <th>88854</th>\n      <td>1.0</td>\n      <td>4.0</td>\n      <td>180.0</td>\n      <td>NaN</td>\n      <td>4.0</td>\n      <td>150000</td>\n      <td>0.0</td>\n      <td>0.0</td>\n    </tr>\n    <tr>\n      <th>88855</th>\n      <td>1.0</td>\n      <td>4.0</td>\n      <td>180.0</td>\n      <td>NaN</td>\n      <td>4.0</td>\n      <td>150000</td>\n      <td>0.0</td>\n      <td>0.0</td>\n    </tr>\n    <tr>\n      <th>88856</th>\n      <td>2.0</td>\n      <td>3.0</td>\n      <td>NaN</td>\n      <td>NaN</td>\n      <td>2.0</td>\n      <td>150000</td>\n      <td>0.0</td>\n      <td>0.0</td>\n    </tr>\n    <tr>\n      <th>88857</th>\n      <td>1.0</td>\n      <td>2.0</td>\n      <td>89.0</td>\n      <td>NaN</td>\n      <td>2.0</td>\n      <td>260000</td>\n      <td>0.0</td>\n      <td>0.0</td>\n    </tr>\n    <tr>\n      <th>88858</th>\n      <td>NaN</td>\n      <td>3.0</td>\n      <td>171.0</td>\n      <td>197.0</td>\n      <td>3.0</td>\n      <td>297019</td>\n      <td>1.0</td>\n      <td>0.0</td>\n    </tr>\n  </tbody>\n</table>\n<p>80992 rows × 8 columns</p>\n</div>"
     },
     "execution_count": 105,
     "metadata": {},
     "output_type": "execute_result"
    }
   ],
   "source": [
    "# Drop all subtype columns except for Subtype_VILLA\n",
    "df.drop(['Subtype_APARTMENT', 'Subtype_DUPLEX', 'Subtype_FLAT_STUDIO', 'Subtype_GROUND_FLOOR', 'Subtype_MANSION', 'Subtype_PENTHOUSE', 'Subtype_TOWN_HOUSE'], axis=1, inplace=True)\n",
    "df"
   ],
   "metadata": {
    "collapsed": false,
    "ExecuteTime": {
     "end_time": "2024-03-14T11:18:53.187419Z",
     "start_time": "2024-03-14T11:18:53.176894Z"
    }
   },
   "id": "c10341d44ee4cbb",
   "execution_count": 105
  },
  {
   "cell_type": "code",
   "outputs": [],
   "source": [
    "# give me a df that shows the percentage of missing values for each column\n",
    "total_rows = df.shape[0]\n",
    "missing_values = df.isnull().mean().sort_values(ascending=False)\n",
    "missing_values = missing_values[missing_values > 0]\n",
    "missing_values = missing_values.to_frame()"
   ],
   "metadata": {
    "collapsed": false,
    "ExecuteTime": {
     "end_time": "2024-03-14T11:18:53.193717Z",
     "start_time": "2024-03-14T11:18:53.189115Z"
    }
   },
   "id": "547917c6629c5c6e",
   "execution_count": 106
  },
  {
   "cell_type": "code",
   "outputs": [],
   "source": [],
   "metadata": {
    "collapsed": false,
    "ExecuteTime": {
     "end_time": "2024-03-14T11:18:53.197649Z",
     "start_time": "2024-03-14T11:18:53.195317Z"
    }
   },
   "id": "d2f0668b934ab912",
   "execution_count": 106
  },
  {
   "cell_type": "code",
   "outputs": [
    {
     "ename": "AttributeError",
     "evalue": "'numpy.ndarray' object has no attribute 'columns'",
     "output_type": "error",
     "traceback": [
      "\u001B[0;31m---------------------------------------------------------------------------\u001B[0m",
      "\u001B[0;31mAttributeError\u001B[0m                            Traceback (most recent call last)",
      "Cell \u001B[0;32mIn[107], line 10\u001B[0m\n\u001B[1;32m      3\u001B[0m \u001B[38;5;28;01mfrom\u001B[39;00m \u001B[38;5;21;01msklearn\u001B[39;00m\u001B[38;5;21;01m.\u001B[39;00m\u001B[38;5;21;01mpipeline\u001B[39;00m \u001B[38;5;28;01mimport\u001B[39;00m Pipeline\n\u001B[1;32m      5\u001B[0m pipeline \u001B[38;5;241m=\u001B[39m Pipeline([\n\u001B[1;32m      6\u001B[0m        (\u001B[38;5;124m\"\u001B[39m\u001B[38;5;124mMinMaxScaler\u001B[39m\u001B[38;5;124m\"\u001B[39m, MinMaxScaler()),\n\u001B[1;32m      7\u001B[0m        (\u001B[38;5;124m\"\u001B[39m\u001B[38;5;124mImpute Land surface\u001B[39m\u001B[38;5;124m\"\u001B[39m, MyKnnImputer(column_names\u001B[38;5;241m=\u001B[39m[\u001B[38;5;124m'\u001B[39m\u001B[38;5;124mHabitable Surface\u001B[39m\u001B[38;5;124m'\u001B[39m, \u001B[38;5;124m'\u001B[39m\u001B[38;5;124mLand Surface\u001B[39m\u001B[38;5;124m'\u001B[39m, \u001B[38;5;124m'\u001B[39m\u001B[38;5;124mFacades\u001B[39m\u001B[38;5;124m'\u001B[39m, \u001B[38;5;124m'\u001B[39m\u001B[38;5;124mSubtype_APARTMENT\u001B[39m\u001B[38;5;124m'\u001B[39m], n_neighbors\u001B[38;5;241m=\u001B[39m\u001B[38;5;241m5\u001B[39m)),\n\u001B[1;32m      8\u001B[0m ])\n\u001B[0;32m---> 10\u001B[0m df \u001B[38;5;241m=\u001B[39m \u001B[43mpipeline\u001B[49m\u001B[38;5;241;43m.\u001B[39;49m\u001B[43mfit_transform\u001B[49m\u001B[43m(\u001B[49m\u001B[43mdf\u001B[49m\u001B[43m)\u001B[49m\n\u001B[1;32m     11\u001B[0m total_rows \u001B[38;5;241m=\u001B[39m df\u001B[38;5;241m.\u001B[39mshape[\u001B[38;5;241m0\u001B[39m]\n\u001B[1;32m     12\u001B[0m missing_values \u001B[38;5;241m=\u001B[39m df\u001B[38;5;241m.\u001B[39misnull()\u001B[38;5;241m.\u001B[39mmean()\u001B[38;5;241m.\u001B[39msort_values(ascending\u001B[38;5;241m=\u001B[39m\u001B[38;5;28;01mFalse\u001B[39;00m)\n",
      "File \u001B[0;32m~/PycharmProjects/immo-prediction/.venv/lib/python3.10/site-packages/sklearn/base.py:1474\u001B[0m, in \u001B[0;36m_fit_context.<locals>.decorator.<locals>.wrapper\u001B[0;34m(estimator, *args, **kwargs)\u001B[0m\n\u001B[1;32m   1467\u001B[0m     estimator\u001B[38;5;241m.\u001B[39m_validate_params()\n\u001B[1;32m   1469\u001B[0m \u001B[38;5;28;01mwith\u001B[39;00m config_context(\n\u001B[1;32m   1470\u001B[0m     skip_parameter_validation\u001B[38;5;241m=\u001B[39m(\n\u001B[1;32m   1471\u001B[0m         prefer_skip_nested_validation \u001B[38;5;129;01mor\u001B[39;00m global_skip_validation\n\u001B[1;32m   1472\u001B[0m     )\n\u001B[1;32m   1473\u001B[0m ):\n\u001B[0;32m-> 1474\u001B[0m     \u001B[38;5;28;01mreturn\u001B[39;00m \u001B[43mfit_method\u001B[49m\u001B[43m(\u001B[49m\u001B[43mestimator\u001B[49m\u001B[43m,\u001B[49m\u001B[43m \u001B[49m\u001B[38;5;241;43m*\u001B[39;49m\u001B[43margs\u001B[49m\u001B[43m,\u001B[49m\u001B[43m \u001B[49m\u001B[38;5;241;43m*\u001B[39;49m\u001B[38;5;241;43m*\u001B[39;49m\u001B[43mkwargs\u001B[49m\u001B[43m)\u001B[49m\n",
      "File \u001B[0;32m~/PycharmProjects/immo-prediction/.venv/lib/python3.10/site-packages/sklearn/pipeline.py:543\u001B[0m, in \u001B[0;36mPipeline.fit_transform\u001B[0;34m(self, X, y, **params)\u001B[0m\n\u001B[1;32m    541\u001B[0m last_step_params \u001B[38;5;241m=\u001B[39m routed_params[\u001B[38;5;28mself\u001B[39m\u001B[38;5;241m.\u001B[39msteps[\u001B[38;5;241m-\u001B[39m\u001B[38;5;241m1\u001B[39m][\u001B[38;5;241m0\u001B[39m]]\n\u001B[1;32m    542\u001B[0m \u001B[38;5;28;01mif\u001B[39;00m \u001B[38;5;28mhasattr\u001B[39m(last_step, \u001B[38;5;124m\"\u001B[39m\u001B[38;5;124mfit_transform\u001B[39m\u001B[38;5;124m\"\u001B[39m):\n\u001B[0;32m--> 543\u001B[0m     \u001B[38;5;28;01mreturn\u001B[39;00m \u001B[43mlast_step\u001B[49m\u001B[38;5;241;43m.\u001B[39;49m\u001B[43mfit_transform\u001B[49m\u001B[43m(\u001B[49m\n\u001B[1;32m    544\u001B[0m \u001B[43m        \u001B[49m\u001B[43mXt\u001B[49m\u001B[43m,\u001B[49m\u001B[43m \u001B[49m\u001B[43my\u001B[49m\u001B[43m,\u001B[49m\u001B[43m \u001B[49m\u001B[38;5;241;43m*\u001B[39;49m\u001B[38;5;241;43m*\u001B[39;49m\u001B[43mlast_step_params\u001B[49m\u001B[43m[\u001B[49m\u001B[38;5;124;43m\"\u001B[39;49m\u001B[38;5;124;43mfit_transform\u001B[39;49m\u001B[38;5;124;43m\"\u001B[39;49m\u001B[43m]\u001B[49m\n\u001B[1;32m    545\u001B[0m \u001B[43m    \u001B[49m\u001B[43m)\u001B[49m\n\u001B[1;32m    546\u001B[0m \u001B[38;5;28;01melse\u001B[39;00m:\n\u001B[1;32m    547\u001B[0m     \u001B[38;5;28;01mreturn\u001B[39;00m last_step\u001B[38;5;241m.\u001B[39mfit(Xt, y, \u001B[38;5;241m*\u001B[39m\u001B[38;5;241m*\u001B[39mlast_step_params[\u001B[38;5;124m\"\u001B[39m\u001B[38;5;124mfit\u001B[39m\u001B[38;5;124m\"\u001B[39m])\u001B[38;5;241m.\u001B[39mtransform(\n\u001B[1;32m    548\u001B[0m         Xt, \u001B[38;5;241m*\u001B[39m\u001B[38;5;241m*\u001B[39mlast_step_params[\u001B[38;5;124m\"\u001B[39m\u001B[38;5;124mtransform\u001B[39m\u001B[38;5;124m\"\u001B[39m]\n\u001B[1;32m    549\u001B[0m     )\n",
      "File \u001B[0;32m~/PycharmProjects/immo-prediction/.venv/lib/python3.10/site-packages/sklearn/utils/_set_output.py:295\u001B[0m, in \u001B[0;36m_wrap_method_output.<locals>.wrapped\u001B[0;34m(self, X, *args, **kwargs)\u001B[0m\n\u001B[1;32m    293\u001B[0m \u001B[38;5;129m@wraps\u001B[39m(f)\n\u001B[1;32m    294\u001B[0m \u001B[38;5;28;01mdef\u001B[39;00m \u001B[38;5;21mwrapped\u001B[39m(\u001B[38;5;28mself\u001B[39m, X, \u001B[38;5;241m*\u001B[39margs, \u001B[38;5;241m*\u001B[39m\u001B[38;5;241m*\u001B[39mkwargs):\n\u001B[0;32m--> 295\u001B[0m     data_to_wrap \u001B[38;5;241m=\u001B[39m \u001B[43mf\u001B[49m\u001B[43m(\u001B[49m\u001B[38;5;28;43mself\u001B[39;49m\u001B[43m,\u001B[49m\u001B[43m \u001B[49m\u001B[43mX\u001B[49m\u001B[43m,\u001B[49m\u001B[43m \u001B[49m\u001B[38;5;241;43m*\u001B[39;49m\u001B[43margs\u001B[49m\u001B[43m,\u001B[49m\u001B[43m \u001B[49m\u001B[38;5;241;43m*\u001B[39;49m\u001B[38;5;241;43m*\u001B[39;49m\u001B[43mkwargs\u001B[49m\u001B[43m)\u001B[49m\n\u001B[1;32m    296\u001B[0m     \u001B[38;5;28;01mif\u001B[39;00m \u001B[38;5;28misinstance\u001B[39m(data_to_wrap, \u001B[38;5;28mtuple\u001B[39m):\n\u001B[1;32m    297\u001B[0m         \u001B[38;5;66;03m# only wrap the first output for cross decomposition\u001B[39;00m\n\u001B[1;32m    298\u001B[0m         return_tuple \u001B[38;5;241m=\u001B[39m (\n\u001B[1;32m    299\u001B[0m             _wrap_data_with_container(method, data_to_wrap[\u001B[38;5;241m0\u001B[39m], X, \u001B[38;5;28mself\u001B[39m),\n\u001B[1;32m    300\u001B[0m             \u001B[38;5;241m*\u001B[39mdata_to_wrap[\u001B[38;5;241m1\u001B[39m:],\n\u001B[1;32m    301\u001B[0m         )\n",
      "File \u001B[0;32m~/PycharmProjects/immo-prediction/.venv/lib/python3.10/site-packages/sklearn/base.py:1098\u001B[0m, in \u001B[0;36mTransformerMixin.fit_transform\u001B[0;34m(self, X, y, **fit_params)\u001B[0m\n\u001B[1;32m   1083\u001B[0m         warnings\u001B[38;5;241m.\u001B[39mwarn(\n\u001B[1;32m   1084\u001B[0m             (\n\u001B[1;32m   1085\u001B[0m                 \u001B[38;5;124mf\u001B[39m\u001B[38;5;124m\"\u001B[39m\u001B[38;5;124mThis object (\u001B[39m\u001B[38;5;132;01m{\u001B[39;00m\u001B[38;5;28mself\u001B[39m\u001B[38;5;241m.\u001B[39m\u001B[38;5;18m__class__\u001B[39m\u001B[38;5;241m.\u001B[39m\u001B[38;5;18m__name__\u001B[39m\u001B[38;5;132;01m}\u001B[39;00m\u001B[38;5;124m) has a `transform`\u001B[39m\u001B[38;5;124m\"\u001B[39m\n\u001B[0;32m   (...)\u001B[0m\n\u001B[1;32m   1093\u001B[0m             \u001B[38;5;167;01mUserWarning\u001B[39;00m,\n\u001B[1;32m   1094\u001B[0m         )\n\u001B[1;32m   1096\u001B[0m \u001B[38;5;28;01mif\u001B[39;00m y \u001B[38;5;129;01mis\u001B[39;00m \u001B[38;5;28;01mNone\u001B[39;00m:\n\u001B[1;32m   1097\u001B[0m     \u001B[38;5;66;03m# fit method of arity 1 (unsupervised transformation)\u001B[39;00m\n\u001B[0;32m-> 1098\u001B[0m     \u001B[38;5;28;01mreturn\u001B[39;00m \u001B[38;5;28;43mself\u001B[39;49m\u001B[38;5;241;43m.\u001B[39;49m\u001B[43mfit\u001B[49m\u001B[43m(\u001B[49m\u001B[43mX\u001B[49m\u001B[43m,\u001B[49m\u001B[43m \u001B[49m\u001B[38;5;241;43m*\u001B[39;49m\u001B[38;5;241;43m*\u001B[39;49m\u001B[43mfit_params\u001B[49m\u001B[43m)\u001B[49m\u001B[38;5;241;43m.\u001B[39;49m\u001B[43mtransform\u001B[49m\u001B[43m(\u001B[49m\u001B[43mX\u001B[49m\u001B[43m)\u001B[49m\n\u001B[1;32m   1099\u001B[0m \u001B[38;5;28;01melse\u001B[39;00m:\n\u001B[1;32m   1100\u001B[0m     \u001B[38;5;66;03m# fit method of arity 2 (supervised transformation)\u001B[39;00m\n\u001B[1;32m   1101\u001B[0m     \u001B[38;5;28;01mreturn\u001B[39;00m \u001B[38;5;28mself\u001B[39m\u001B[38;5;241m.\u001B[39mfit(X, y, \u001B[38;5;241m*\u001B[39m\u001B[38;5;241m*\u001B[39mfit_params)\u001B[38;5;241m.\u001B[39mtransform(X)\n",
      "File \u001B[0;32m~/PycharmProjects/immo-prediction/.venv/lib/python3.10/site-packages/sklearn/utils/_set_output.py:295\u001B[0m, in \u001B[0;36m_wrap_method_output.<locals>.wrapped\u001B[0;34m(self, X, *args, **kwargs)\u001B[0m\n\u001B[1;32m    293\u001B[0m \u001B[38;5;129m@wraps\u001B[39m(f)\n\u001B[1;32m    294\u001B[0m \u001B[38;5;28;01mdef\u001B[39;00m \u001B[38;5;21mwrapped\u001B[39m(\u001B[38;5;28mself\u001B[39m, X, \u001B[38;5;241m*\u001B[39margs, \u001B[38;5;241m*\u001B[39m\u001B[38;5;241m*\u001B[39mkwargs):\n\u001B[0;32m--> 295\u001B[0m     data_to_wrap \u001B[38;5;241m=\u001B[39m \u001B[43mf\u001B[49m\u001B[43m(\u001B[49m\u001B[38;5;28;43mself\u001B[39;49m\u001B[43m,\u001B[49m\u001B[43m \u001B[49m\u001B[43mX\u001B[49m\u001B[43m,\u001B[49m\u001B[43m \u001B[49m\u001B[38;5;241;43m*\u001B[39;49m\u001B[43margs\u001B[49m\u001B[43m,\u001B[49m\u001B[43m \u001B[49m\u001B[38;5;241;43m*\u001B[39;49m\u001B[38;5;241;43m*\u001B[39;49m\u001B[43mkwargs\u001B[49m\u001B[43m)\u001B[49m\n\u001B[1;32m    296\u001B[0m     \u001B[38;5;28;01mif\u001B[39;00m \u001B[38;5;28misinstance\u001B[39m(data_to_wrap, \u001B[38;5;28mtuple\u001B[39m):\n\u001B[1;32m    297\u001B[0m         \u001B[38;5;66;03m# only wrap the first output for cross decomposition\u001B[39;00m\n\u001B[1;32m    298\u001B[0m         return_tuple \u001B[38;5;241m=\u001B[39m (\n\u001B[1;32m    299\u001B[0m             _wrap_data_with_container(method, data_to_wrap[\u001B[38;5;241m0\u001B[39m], X, \u001B[38;5;28mself\u001B[39m),\n\u001B[1;32m    300\u001B[0m             \u001B[38;5;241m*\u001B[39mdata_to_wrap[\u001B[38;5;241m1\u001B[39m:],\n\u001B[1;32m    301\u001B[0m         )\n",
      "File \u001B[0;32m~/PycharmProjects/immo-prediction/src/features/generic_transformer.py:18\u001B[0m, in \u001B[0;36mMyKnnImputer.transform\u001B[0;34m(self, X, y)\u001B[0m\n\u001B[1;32m     16\u001B[0m \u001B[38;5;28;01mdef\u001B[39;00m \u001B[38;5;21mtransform\u001B[39m(\u001B[38;5;28mself\u001B[39m, X, y\u001B[38;5;241m=\u001B[39m\u001B[38;5;28;01mNone\u001B[39;00m):\n\u001B[1;32m     17\u001B[0m     X_copy \u001B[38;5;241m=\u001B[39m X\u001B[38;5;241m.\u001B[39mcopy()\n\u001B[0;32m---> 18\u001B[0m     \u001B[38;5;28;01mreturn\u001B[39;00m pd\u001B[38;5;241m.\u001B[39mDataFrame(\u001B[38;5;28mself\u001B[39m\u001B[38;5;241m.\u001B[39mimputer\u001B[38;5;241m.\u001B[39mtransform(X_copy), columns\u001B[38;5;241m=\u001B[39m\u001B[43mX\u001B[49m\u001B[38;5;241;43m.\u001B[39;49m\u001B[43mcolumns\u001B[49m)\n",
      "\u001B[0;31mAttributeError\u001B[0m: 'numpy.ndarray' object has no attribute 'columns'"
     ]
    }
   ],
   "source": [
    "from sklearn.preprocessing import MinMaxScaler\n",
    "from features.generic_transformer import MyKnnImputer, MyMinMaxScaler\n",
    "from sklearn.pipeline import Pipeline\n",
    "\n",
    "pipeline = Pipeline([\n",
    "       (\"MinMaxScaler\", MyMinMaxScaler({\"Price\": 3})),\n",
    "       (\"Impute Land surface\", MyKnnImputer(column_names=['Habitable Surface', 'Land Surface', 'Facades', 'Subtype_APARTMENT'], n_neighbors=5)),\n",
    "])\n",
    "\n",
    "df = pipeline.fit_transform(df)\n",
    "total_rows = df.shape[0]\n",
    "missing_values = df.isnull().mean().sort_values(ascending=False)\n",
    "missing_values = missing_values[missing_values > 0]\n",
    "missing_values = missing_values.to_frame()"
   ],
   "metadata": {
    "collapsed": false,
    "ExecuteTime": {
     "end_time": "2024-03-14T11:21:31.676344Z",
     "start_time": "2024-03-14T11:18:53.199551Z"
    }
   },
   "id": "c40dbc0ee82a6da8",
   "execution_count": 107
  }
 ],
 "metadata": {
  "kernelspec": {
   "display_name": "Python 3",
   "language": "python",
   "name": "python3"
  },
  "language_info": {
   "codemirror_mode": {
    "name": "ipython",
    "version": 2
   },
   "file_extension": ".py",
   "mimetype": "text/x-python",
   "name": "python",
   "nbconvert_exporter": "python",
   "pygments_lexer": "ipython2",
   "version": "2.7.6"
  }
 },
 "nbformat": 4,
 "nbformat_minor": 5
}
